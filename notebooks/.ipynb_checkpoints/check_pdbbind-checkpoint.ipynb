{
 "cells": [
  {
   "cell_type": "code",
   "execution_count": 1,
   "id": "de5887b6",
   "metadata": {},
   "outputs": [],
   "source": [
    "import h5py\n",
    "import numpy as np"
   ]
  },
  {
   "cell_type": "code",
   "execution_count": 2,
   "id": "fb84d221",
   "metadata": {},
   "outputs": [
    {
     "data": {
      "text/html": [
       "<style>.container { width:98% !important; }</style>"
      ],
      "text/plain": [
       "<IPython.core.display.HTML object>"
      ]
     },
     "execution_count": 2,
     "metadata": {},
     "output_type": "execute_result"
    }
   ],
   "source": [
    "from IPython.display import clear_output\n",
    "from IPython.core.display import HTML\n",
    "HTML(\"<style>.container { width:98% !important; }</style>\")"
   ]
  },
  {
   "cell_type": "code",
   "execution_count": 3,
   "id": "b6cc3a8f",
   "metadata": {},
   "outputs": [
    {
     "name": "stdout",
     "output_type": "stream",
     "text": [
      "Current working directory: /g/g92/noh1/FASTv2\n"
     ]
    }
   ],
   "source": [
    "os.chdir(\"..\")\n",
    "print(\"Current working directory:\", os.getcwd())"
   ]
  },
  {
   "cell_type": "code",
   "execution_count": 4,
   "id": "43386fea",
   "metadata": {},
   "outputs": [
    {
     "name": "stderr",
     "output_type": "stream",
     "text": [
      "/g/g92/noh1/.local/lib/python3.8/site-packages/tqdm/auto.py:22: TqdmWarning: IProgress not found. Please update jupyter and ipywidgets. See https://ipywidgets.readthedocs.io/en/stable/user_install.html\n",
      "  from .autonotebook import tqdm as notebook_tqdm\n"
     ]
    }
   ],
   "source": [
    "from datasets.pdbbind import PDBBind2016, PDBBind2020"
   ]
  },
  {
   "cell_type": "code",
   "execution_count": 5,
   "id": "407b6931",
   "metadata": {},
   "outputs": [],
   "source": [
    "subsets_2016 = [\"general\", \"refined\", \"core\"]\n",
    "input_type = \"graph\"\n",
    "\n",
    "configs_2016 = {\n",
    "    \"preprocessing_type\": \"preprocessed\",\n",
    "    \"feature_type\": \"pybel\",\n",
    "    \"input_type\": input_type,\n",
    "    \"max_atoms\": 2000,\n",
    "    \"use_docking\": False,\n",
    "}"
   ]
  },
  {
   "cell_type": "code",
   "execution_count": 6,
   "id": "10922bd1",
   "metadata": {},
   "outputs": [],
   "source": [
    "pdbbind_2016 = {subset: PDBBind2016(subset=subset, configs=configs_2016) for subset in subsets_2016}"
   ]
  },
  {
   "cell_type": "code",
   "execution_count": 7,
   "id": "32c6ec94",
   "metadata": {},
   "outputs": [
    {
     "name": "stdout",
     "output_type": "stream",
     "text": [
      "general 9226\n",
      "refined 3767\n",
      "core 290\n",
      "all 13283\n"
     ]
    }
   ],
   "source": [
    "total = 0\n",
    "for subset in subsets_2016:\n",
    "    n = len(pdbbind_2016[subset])\n",
    "    print(subset, n)\n",
    "    total += n\n",
    "print(\"all\", total)"
   ]
  },
  {
   "cell_type": "code",
   "execution_count": 8,
   "id": "1d67f51c",
   "metadata": {},
   "outputs": [],
   "source": [
    "subsets_2020 = [\"train\", \"val\", \"test\"]\n",
    "input_type = \"graph\"\n",
    "\n",
    "configs_2020 = {\n",
    "    \"input_type\": input_type,\n",
    "    \"max_atoms\": 2000,\n",
    "}"
   ]
  },
  {
   "cell_type": "code",
   "execution_count": 9,
   "id": "b69c0dbf",
   "metadata": {},
   "outputs": [],
   "source": [
    "pdbbind_2020 = {subset: PDBBind2020(subset=subset, configs=configs_2020) for subset in subsets_2020}"
   ]
  },
  {
   "cell_type": "code",
   "execution_count": 10,
   "id": "20421358",
   "metadata": {},
   "outputs": [
    {
     "name": "stdout",
     "output_type": "stream",
     "text": [
      "train 16876\n",
      "val 2275\n",
      "test 259\n",
      "all 19410\n"
     ]
    }
   ],
   "source": [
    "total = 0\n",
    "for subset in subsets_2020:\n",
    "    n = len(pdbbind_2020[subset])\n",
    "    print(subset, n)\n",
    "    total += n\n",
    "print(\"all\", total)"
   ]
  },
  {
   "cell_type": "code",
   "execution_count": null,
   "id": "5499d6a2",
   "metadata": {},
   "outputs": [],
   "source": []
  }
 ],
 "metadata": {
  "kernelspec": {
   "display_name": "fast",
   "language": "python",
   "name": "fast"
  },
  "language_info": {
   "codemirror_mode": {
    "name": "ipython",
    "version": 3
   },
   "file_extension": ".py",
   "mimetype": "text/x-python",
   "name": "python",
   "nbconvert_exporter": "python",
   "pygments_lexer": "ipython3",
   "version": "3.8.13"
  }
 },
 "nbformat": 4,
 "nbformat_minor": 5
}
