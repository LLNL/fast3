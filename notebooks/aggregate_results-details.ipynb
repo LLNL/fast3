{
 "cells": [
  {
   "cell_type": "code",
   "execution_count": 1,
   "id": "f48d04e7",
   "metadata": {},
   "outputs": [],
   "source": [
    "import csv\n",
    "import json\n",
    "import numpy as np\n",
    "import os\n",
    "\n",
    "from collections import Counter"
   ]
  },
  {
   "cell_type": "code",
   "execution_count": 2,
   "id": "334bd12a",
   "metadata": {},
   "outputs": [
    {
     "data": {
      "text/html": [
       "<style>.container { width:98% !important; }</style>"
      ],
      "text/plain": [
       "<IPython.core.display.HTML object>"
      ]
     },
     "execution_count": 2,
     "metadata": {},
     "output_type": "execute_result"
    }
   ],
   "source": [
    "from IPython.display import clear_output\n",
    "from IPython.core.display import HTML\n",
    "HTML(\"<style>.container { width:98% !important; }</style>\")"
   ]
  },
  {
   "cell_type": "code",
   "execution_count": 3,
   "id": "760fb988",
   "metadata": {},
   "outputs": [
    {
     "name": "stdout",
     "output_type": "stream",
     "text": [
      "/g/g92/noh1/fast2\n"
     ]
    }
   ],
   "source": [
    "if os.path.basename(os.path.normpath(os.getcwd())) != \"fast2\":\n",
    "    os.chdir('..')\n",
    "print(os.getcwd())"
   ]
  },
  {
   "cell_type": "code",
   "execution_count": 4,
   "id": "521b4809",
   "metadata": {},
   "outputs": [
    {
     "name": "stderr",
     "output_type": "stream",
     "text": [
      "/g/g92/noh1/.local/lib/python3.8/site-packages/tqdm/auto.py:22: TqdmWarning: IProgress not found. Please update jupyter and ipywidgets. See https://ipywidgets.readthedocs.io/en/stable/user_install.html\n",
      "  from .autonotebook import tqdm as notebook_tqdm\n"
     ]
    }
   ],
   "source": [
    "import metrics\n",
    "\n",
    "METRICS = {\n",
    "    \"rmse\": metrics.RMSE,\n",
    "    \"mae\": metrics.MAE,\n",
    "    \"r2\": metrics.R2,\n",
    "    \"pearson_r\": metrics.PearsonR,\n",
    "    \"spearman_r\": metrics.SpearmanR,\n",
    "}\n",
    "\n",
    "metric_names = [\"rmse\", \"mae\", \"r2\", \"pearson_r\", \"spearman_r\"]"
   ]
  },
  {
   "cell_type": "code",
   "execution_count": 5,
   "id": "06a01f36",
   "metadata": {},
   "outputs": [
    {
     "name": "stdout",
     "output_type": "stream",
     "text": [
      "total exps: 8\n",
      "./results/MPRO/FUSION_SGCNN+EFFICIENTSE3-20230720-202416-nr3676x1-FREEZE_ATT/mpro_test/predictions.json\n",
      "./results/MPRO/FUSION_SGCNN+EFFICIENTSE3-20230720-202716-3ty9h81l-FREEZE_ATT_x0.1/mpro_test/predictions.json\n",
      "./results/MPRO/FUSION_SGCNN+EFFICIENTSE3-20230720-203059-b7s37aog-FREEZE_WO_ATT/mpro_test/predictions.json\n",
      "./results/MPRO/FUSION_SGCNN+EFFICIENTSE3-20230720-202913-gpfdo3ls-FREEZE_WO_ATT_x0.1/mpro_test/predictions.json\n",
      "./results/MPRO/FUSION_PCN+EFFICIENTSE3-20230720-204800-waizt831-FREEZE_ATT/mpro_test/predictions.json\n",
      "./results/MPRO/FUSION_SGCNN+EFFICIENTSE3-20230720-202716-3ty9h81l-FREEZE_ATT_x0.1/mpro_test/predictions.json\n",
      "./results/MPRO/FUSION_PCN+EFFICIENTSE3-20230720-205151-igm3s3iu-FREEZE_WO_ATT/mpro_test/predictions.json\n",
      "./results/MPRO/FUSION_PCN+EFFICIENTSE3-20230720-205052-t1pynugy-FREEZE_WO_ATT_x0.1/mpro_test/predictions.json\n"
     ]
    }
   ],
   "source": [
    "result_dir = \"./results\"\n",
    "\n",
    "exp_names = [\n",
    "#     \"PDBBIND2020/PCN-20230426-114729-clycx2fc-GENERAL+REFINED\",\n",
    "#     \"PDBBIND2020/SGCNN-20230426-114626-2xm6bzhz-GENERAL+REFINED\",\n",
    "#     \"MPRO/PCN-20230426-180113-rqn56jfo-TRAIN80\",\n",
    "#     \"MPRO/PCN-20230426-220511-jlme00lo-TRAIN80_FINETUNE\",\n",
    "#     \"MPRO/SGCNN-20230426-180233-c2_c__zb-TRAIN80\",\n",
    "#     \"MPRO/SGCNN-20230426-220143-9yu8ht5m-TRAIN80_FINETUNE\",\n",
    "#     \"MPRO/PCN-20230426-200743-4an40ysz-TRAIN80_RANDOM\",\n",
    "#     \"MPRO/PCN-20230426-220353-ssrgp_2_-TRAIN80_RANDOM_FINETUNE\",\n",
    "#     \"MPRO/SGCNN-20230427-114553-2wfput89-TRAIN80_RANDOM\",\n",
    "#     \"MPRO/SGCNN-20230426-220002-u92tdy7q-TRAIN80_RANDOM_FINETUNE\",\n",
    "#     \"MPRO+PDBBIND2020/PCN-20230502-221454-2mhg9kyx-SCENARIO4\",\n",
    "#     \"MPRO+PDBBIND2020/PCN-20230503-000641-66q9v6qy-SCENARIO4_RANDOM\",\n",
    "#     \"MPRO+PDBBIND2020/SGCNN-20230502-221429-r_d4z77j-SCENARIO4\",\n",
    "#     \"MPRO+PDBBIND2020/SGCNN-20230503-000753-lh8lmz3v-SCENARIO4_RANDOM\",\n",
    "    \"MPRO/FUSION_SGCNN+EFFICIENTSE3-20230720-202416-nr3676x1-FREEZE_ATT\",\n",
    "    \"MPRO/FUSION_SGCNN+EFFICIENTSE3-20230720-202716-3ty9h81l-FREEZE_ATT_x0.1\",\n",
    "    \"MPRO/FUSION_SGCNN+EFFICIENTSE3-20230720-203059-b7s37aog-FREEZE_WO_ATT\",\n",
    "    \"MPRO/FUSION_SGCNN+EFFICIENTSE3-20230720-202913-gpfdo3ls-FREEZE_WO_ATT_x0.1\",\n",
    "    \"MPRO/FUSION_PCN+EFFICIENTSE3-20230720-204800-waizt831-FREEZE_ATT\",\n",
    "    \"MPRO/FUSION_SGCNN+EFFICIENTSE3-20230720-202716-3ty9h81l-FREEZE_ATT_x0.1\",\n",
    "    \"MPRO/FUSION_PCN+EFFICIENTSE3-20230720-205151-igm3s3iu-FREEZE_WO_ATT\",\n",
    "    \"MPRO/FUSION_PCN+EFFICIENTSE3-20230720-205052-t1pynugy-FREEZE_WO_ATT_x0.1\",\n",
    "]\n",
    "\n",
    "\n",
    "print(\"total exps:\", len(exp_names))\n",
    "\n",
    "overall_predictions = {}\n",
    "\n",
    "for exp_name in exp_names:\n",
    "    exp_dir = os.path.join(result_dir, exp_name)\n",
    "    sub_dirs = [name for name in os.listdir(exp_dir) if (os.path.isdir(os.path.join(exp_dir, name)) and (\"mpro\" in name))]\n",
    "    for test_set in sub_dirs:\n",
    "        pred_path = os.path.join(exp_dir, test_set, \"predictions.json\")\n",
    "        if os.path.exists(pred_path):\n",
    "            print(pred_path)\n",
    "            with open(pred_path, 'r') as f:\n",
    "                predictions = json.load(f)\n",
    "            overall_predictions[exp_name + \"/\" + test_set] = predictions\n",
    "        else:\n",
    "            print(\"Not exists: {}\".format(pred_path))"
   ]
  },
  {
   "cell_type": "code",
   "execution_count": 6,
   "id": "053e6ba6",
   "metadata": {},
   "outputs": [
    {
     "name": "stdout",
     "output_type": "stream",
     "text": [
      "model method rmse mae r2 pearson_r spearman_r\n",
      "MPRO/FUSION_SGCNN+EFFICIENTSE3-20230720-202416-nr3676x1-FREEZE_ATT/mpro_test all 0.8694438376360641 0.7176371516871618 -0.11606911280592835 nan nan\n",
      "MPRO/FUSION_SGCNN+EFFICIENTSE3-20230720-202416-nr3676x1-FREEZE_ATT/mpro_test best 0.8694438376360641 0.7176371516871618 -0.11606911280592835 nan nan\n",
      "MPRO/FUSION_SGCNN+EFFICIENTSE3-20230720-202416-nr3676x1-FREEZE_ATT/mpro_test highest 0.8694438376360641 0.7176371516871618 -0.11606911280592835 nan nan\n",
      "MPRO/FUSION_SGCNN+EFFICIENTSE3-20230720-202416-nr3676x1-FREEZE_ATT/mpro_test average 0.8694438376360641 0.7176371516871618 -0.11606911280592835 nan nan\n",
      "MPRO/FUSION_SGCNN+EFFICIENTSE3-20230720-202716-3ty9h81l-FREEZE_ATT_x0.1/mpro_test all 0.8695312190561836 0.717696850371748 -0.1162934599126706 nan nan\n",
      "MPRO/FUSION_SGCNN+EFFICIENTSE3-20230720-202716-3ty9h81l-FREEZE_ATT_x0.1/mpro_test best 0.8695312190561836 0.717696850371748 -0.11629345991267082 nan nan\n",
      "MPRO/FUSION_SGCNN+EFFICIENTSE3-20230720-202716-3ty9h81l-FREEZE_ATT_x0.1/mpro_test highest 0.8695312190561836 0.717696850371748 -0.11629345991267082 nan nan\n",
      "MPRO/FUSION_SGCNN+EFFICIENTSE3-20230720-202716-3ty9h81l-FREEZE_ATT_x0.1/mpro_test average 0.8695312190561836 0.717696850371748 -0.11629345991267082 nan nan\n",
      "MPRO/FUSION_SGCNN+EFFICIENTSE3-20230720-203059-b7s37aog-FREEZE_WO_ATT/mpro_test all 0.8697526253000201 0.7178478838396183 -0.11686200950045422 nan nan\n",
      "MPRO/FUSION_SGCNN+EFFICIENTSE3-20230720-203059-b7s37aog-FREEZE_WO_ATT/mpro_test best 0.8697526253000201 0.7178478838396183 -0.11686200950045422 nan nan\n",
      "MPRO/FUSION_SGCNN+EFFICIENTSE3-20230720-203059-b7s37aog-FREEZE_WO_ATT/mpro_test highest 0.8697526253000201 0.7178478838396183 -0.11686200950045422 nan nan\n",
      "MPRO/FUSION_SGCNN+EFFICIENTSE3-20230720-203059-b7s37aog-FREEZE_WO_ATT/mpro_test average 0.8697526253000201 0.7178478838396183 -0.11686200950045422 nan nan\n",
      "MPRO/FUSION_SGCNN+EFFICIENTSE3-20230720-202913-gpfdo3ls-FREEZE_WO_ATT_x0.1/mpro_test all 0.8704250213148096 0.718304557756039 -0.11858954403620858 nan nan\n",
      "MPRO/FUSION_SGCNN+EFFICIENTSE3-20230720-202913-gpfdo3ls-FREEZE_WO_ATT_x0.1/mpro_test best 0.8704250213148096 0.718304557756039 -0.11858954403620858 nan nan\n",
      "MPRO/FUSION_SGCNN+EFFICIENTSE3-20230720-202913-gpfdo3ls-FREEZE_WO_ATT_x0.1/mpro_test highest 0.8704250213148096 0.718304557756039 -0.11858954403620858 nan nan\n",
      "MPRO/FUSION_SGCNN+EFFICIENTSE3-20230720-202913-gpfdo3ls-FREEZE_WO_ATT_x0.1/mpro_test average 0.8704250213148096 0.718304557756039 -0.11858954403620858 nan nan\n",
      "MPRO/FUSION_PCN+EFFICIENTSE3-20230720-204800-waizt831-FREEZE_ATT/mpro_test all 0.8003097329268745 0.6443419345293687 0.05436351718498145 0.3657095833556273 0.3466077956408611\n",
      "MPRO/FUSION_PCN+EFFICIENTSE3-20230720-204800-waizt831-FREEZE_ATT/mpro_test best 0.7818790044107553 0.6339284460948404 0.09741705185656424 0.39743319161328844 0.3872996961613407\n",
      "MPRO/FUSION_PCN+EFFICIENTSE3-20230720-204800-waizt831-FREEZE_ATT/mpro_test highest 0.8503763369457172 0.6880274206192477 -0.06765356703755598 0.3787983134434388 0.35739897740213344\n",
      "MPRO/FUSION_PCN+EFFICIENTSE3-20230720-204800-waizt831-FREEZE_ATT/mpro_test average 0.7495785609102741 0.6081548153662627 0.17045044439118284 0.43480414810611134 0.4142483233454563\n",
      "MPRO/FUSION_PCN+EFFICIENTSE3-20230720-205151-igm3s3iu-FREEZE_WO_ATT/mpro_test all 0.7821303836094401 0.6356735638288776 0.09683658595232358 0.39739312315721387 0.3785258061293297\n",
      "MPRO/FUSION_PCN+EFFICIENTSE3-20230720-205151-igm3s3iu-FREEZE_WO_ATT/mpro_test best 0.7663374388882674 0.6231677980268084 0.13294208250591133 0.42557551944773614 0.40378807786516263\n",
      "MPRO/FUSION_PCN+EFFICIENTSE3-20230720-205151-igm3s3iu-FREEZE_WO_ATT/mpro_test highest 0.7787108699258396 0.6235475905256869 0.10471667459546075 0.41421389831258065 0.3901100735516107\n",
      "MPRO/FUSION_PCN+EFFICIENTSE3-20230720-205151-igm3s3iu-FREEZE_WO_ATT/mpro_test average 0.7519892864416443 0.6170026549607031 0.16510602231139415 0.4520572434017748 0.43317342462594627\n",
      "MPRO/FUSION_PCN+EFFICIENTSE3-20230720-205052-t1pynugy-FREEZE_WO_ATT_x0.1/mpro_test all 3.436628045762866 0.7134303825360716 -16.43705276827736 0.06968416562579044 0.34533429439306945\n",
      "MPRO/FUSION_PCN+EFFICIENTSE3-20230720-205052-t1pynugy-FREEZE_WO_ATT_x0.1/mpro_test best 0.7700312981265998 0.6285933397209008 0.12456324390265205 0.41057308283717137 0.3824831375295698\n",
      "MPRO/FUSION_PCN+EFFICIENTSE3-20230720-205052-t1pynugy-FREEZE_WO_ATT_x0.1/mpro_test highest 10.608080129226192 1.314675384220557 -165.14283046689198 0.08782554086708862 0.35796680837960276\n",
      "MPRO/FUSION_PCN+EFFICIENTSE3-20230720-205052-t1pynugy-FREEZE_WO_ATT_x0.1/mpro_test average 1.2247643790122444 0.6873396813731182 -1.2146908716338825 0.21545308713987646 0.3816802153845776\n"
     ]
    },
    {
     "name": "stderr",
     "output_type": "stream",
     "text": [
      "/g/g92/noh1/.local/lib/python3.8/site-packages/scipy/stats/_stats_py.py:4424: ConstantInputWarning: An input array is constant; the correlation coefficient is not defined.\n",
      "  warnings.warn(stats.ConstantInputWarning(msg))\n",
      "/g/g92/noh1/.local/lib/python3.8/site-packages/scipy/stats/_stats_py.py:4921: ConstantInputWarning: An input array is constant; the correlation coefficient is not defined.\n",
      "  warnings.warn(stats.ConstantInputWarning(warn_msg))\n",
      "/g/g92/noh1/.local/lib/python3.8/site-packages/scipy/stats/_stats_py.py:4424: ConstantInputWarning: An input array is constant; the correlation coefficient is not defined.\n",
      "  warnings.warn(stats.ConstantInputWarning(msg))\n",
      "/g/g92/noh1/.local/lib/python3.8/site-packages/scipy/stats/_stats_py.py:4921: ConstantInputWarning: An input array is constant; the correlation coefficient is not defined.\n",
      "  warnings.warn(stats.ConstantInputWarning(warn_msg))\n",
      "/g/g92/noh1/.local/lib/python3.8/site-packages/scipy/stats/_stats_py.py:4424: ConstantInputWarning: An input array is constant; the correlation coefficient is not defined.\n",
      "  warnings.warn(stats.ConstantInputWarning(msg))\n",
      "/g/g92/noh1/.local/lib/python3.8/site-packages/scipy/stats/_stats_py.py:4921: ConstantInputWarning: An input array is constant; the correlation coefficient is not defined.\n",
      "  warnings.warn(stats.ConstantInputWarning(warn_msg))\n",
      "/g/g92/noh1/.local/lib/python3.8/site-packages/scipy/stats/_stats_py.py:4424: ConstantInputWarning: An input array is constant; the correlation coefficient is not defined.\n",
      "  warnings.warn(stats.ConstantInputWarning(msg))\n",
      "/g/g92/noh1/.local/lib/python3.8/site-packages/scipy/stats/_stats_py.py:4921: ConstantInputWarning: An input array is constant; the correlation coefficient is not defined.\n",
      "  warnings.warn(stats.ConstantInputWarning(warn_msg))\n",
      "/g/g92/noh1/.local/lib/python3.8/site-packages/scipy/stats/_stats_py.py:4424: ConstantInputWarning: An input array is constant; the correlation coefficient is not defined.\n",
      "  warnings.warn(stats.ConstantInputWarning(msg))\n",
      "/g/g92/noh1/.local/lib/python3.8/site-packages/scipy/stats/_stats_py.py:4921: ConstantInputWarning: An input array is constant; the correlation coefficient is not defined.\n",
      "  warnings.warn(stats.ConstantInputWarning(warn_msg))\n",
      "/g/g92/noh1/.local/lib/python3.8/site-packages/scipy/stats/_stats_py.py:4424: ConstantInputWarning: An input array is constant; the correlation coefficient is not defined.\n",
      "  warnings.warn(stats.ConstantInputWarning(msg))\n",
      "/g/g92/noh1/.local/lib/python3.8/site-packages/scipy/stats/_stats_py.py:4921: ConstantInputWarning: An input array is constant; the correlation coefficient is not defined.\n",
      "  warnings.warn(stats.ConstantInputWarning(warn_msg))\n",
      "/g/g92/noh1/.local/lib/python3.8/site-packages/scipy/stats/_stats_py.py:4424: ConstantInputWarning: An input array is constant; the correlation coefficient is not defined.\n",
      "  warnings.warn(stats.ConstantInputWarning(msg))\n",
      "/g/g92/noh1/.local/lib/python3.8/site-packages/scipy/stats/_stats_py.py:4921: ConstantInputWarning: An input array is constant; the correlation coefficient is not defined.\n",
      "  warnings.warn(stats.ConstantInputWarning(warn_msg))\n",
      "/g/g92/noh1/.local/lib/python3.8/site-packages/scipy/stats/_stats_py.py:4424: ConstantInputWarning: An input array is constant; the correlation coefficient is not defined.\n",
      "  warnings.warn(stats.ConstantInputWarning(msg))\n",
      "/g/g92/noh1/.local/lib/python3.8/site-packages/scipy/stats/_stats_py.py:4921: ConstantInputWarning: An input array is constant; the correlation coefficient is not defined.\n",
      "  warnings.warn(stats.ConstantInputWarning(warn_msg))\n",
      "/g/g92/noh1/.local/lib/python3.8/site-packages/scipy/stats/_stats_py.py:4424: ConstantInputWarning: An input array is constant; the correlation coefficient is not defined.\n",
      "  warnings.warn(stats.ConstantInputWarning(msg))\n",
      "/g/g92/noh1/.local/lib/python3.8/site-packages/scipy/stats/_stats_py.py:4921: ConstantInputWarning: An input array is constant; the correlation coefficient is not defined.\n",
      "  warnings.warn(stats.ConstantInputWarning(warn_msg))\n",
      "/g/g92/noh1/.local/lib/python3.8/site-packages/scipy/stats/_stats_py.py:4424: ConstantInputWarning: An input array is constant; the correlation coefficient is not defined.\n",
      "  warnings.warn(stats.ConstantInputWarning(msg))\n",
      "/g/g92/noh1/.local/lib/python3.8/site-packages/scipy/stats/_stats_py.py:4921: ConstantInputWarning: An input array is constant; the correlation coefficient is not defined.\n",
      "  warnings.warn(stats.ConstantInputWarning(warn_msg))\n",
      "/g/g92/noh1/.local/lib/python3.8/site-packages/scipy/stats/_stats_py.py:4424: ConstantInputWarning: An input array is constant; the correlation coefficient is not defined.\n",
      "  warnings.warn(stats.ConstantInputWarning(msg))\n",
      "/g/g92/noh1/.local/lib/python3.8/site-packages/scipy/stats/_stats_py.py:4921: ConstantInputWarning: An input array is constant; the correlation coefficient is not defined.\n",
      "  warnings.warn(stats.ConstantInputWarning(warn_msg))\n",
      "/g/g92/noh1/.local/lib/python3.8/site-packages/scipy/stats/_stats_py.py:4424: ConstantInputWarning: An input array is constant; the correlation coefficient is not defined.\n",
      "  warnings.warn(stats.ConstantInputWarning(msg))\n",
      "/g/g92/noh1/.local/lib/python3.8/site-packages/scipy/stats/_stats_py.py:4921: ConstantInputWarning: An input array is constant; the correlation coefficient is not defined.\n",
      "  warnings.warn(stats.ConstantInputWarning(warn_msg))\n",
      "/g/g92/noh1/.local/lib/python3.8/site-packages/scipy/stats/_stats_py.py:4424: ConstantInputWarning: An input array is constant; the correlation coefficient is not defined.\n",
      "  warnings.warn(stats.ConstantInputWarning(msg))\n",
      "/g/g92/noh1/.local/lib/python3.8/site-packages/scipy/stats/_stats_py.py:4921: ConstantInputWarning: An input array is constant; the correlation coefficient is not defined.\n",
      "  warnings.warn(stats.ConstantInputWarning(warn_msg))\n",
      "/g/g92/noh1/.local/lib/python3.8/site-packages/scipy/stats/_stats_py.py:4424: ConstantInputWarning: An input array is constant; the correlation coefficient is not defined.\n",
      "  warnings.warn(stats.ConstantInputWarning(msg))\n",
      "/g/g92/noh1/.local/lib/python3.8/site-packages/scipy/stats/_stats_py.py:4921: ConstantInputWarning: An input array is constant; the correlation coefficient is not defined.\n",
      "  warnings.warn(stats.ConstantInputWarning(warn_msg))\n",
      "/g/g92/noh1/.local/lib/python3.8/site-packages/scipy/stats/_stats_py.py:4424: ConstantInputWarning: An input array is constant; the correlation coefficient is not defined.\n",
      "  warnings.warn(stats.ConstantInputWarning(msg))\n",
      "/g/g92/noh1/.local/lib/python3.8/site-packages/scipy/stats/_stats_py.py:4921: ConstantInputWarning: An input array is constant; the correlation coefficient is not defined.\n",
      "  warnings.warn(stats.ConstantInputWarning(warn_msg))\n",
      "/g/g92/noh1/.local/lib/python3.8/site-packages/scipy/stats/_stats_py.py:4424: ConstantInputWarning: An input array is constant; the correlation coefficient is not defined.\n",
      "  warnings.warn(stats.ConstantInputWarning(msg))\n",
      "/g/g92/noh1/.local/lib/python3.8/site-packages/scipy/stats/_stats_py.py:4921: ConstantInputWarning: An input array is constant; the correlation coefficient is not defined.\n",
      "  warnings.warn(stats.ConstantInputWarning(warn_msg))\n"
     ]
    }
   ],
   "source": [
    "def get_compound_id(docking_id):\n",
    "    return docking_id.rsplit(\"_\", 2)[0]\n",
    "\n",
    "method_names = [\"best\", \"highest\", \"average\"]\n",
    "poses = list(range(1, 11))\n",
    "\n",
    "print(\" \".join([\"model\", \"method\"] + metric_names))\n",
    "for exp_name, predictions in overall_predictions.items():\n",
    "    dock_ids = list(predictions.keys())\n",
    "    comp_ids = list(set([get_compound_id(dock_id) for dock_id in dock_ids]))\n",
    "#     print(\"{}: # docking = {} / # compound = {}\".format(exp_name, len(dock_ids), len(comp_ids)))\n",
    "\n",
    "    # All\n",
    "    all_dts = np.array([pred for pred in predictions.values()])[:, 0]\n",
    "    all_gts = np.array([pred for pred in predictions.values()])[:, 1]\n",
    "          \n",
    "    row = [exp_name, \"all\"] + [METRICS[metric_name]().calculate(all_dts, all_gts) for metric_name in metric_names]\n",
    "    row = [str(r) for r in row]\n",
    "    print(\" \".join(row))\n",
    "          \n",
    "    dts = {method_name: [] for method_name in method_names}\n",
    "    gts = []\n",
    "\n",
    "    for comp_id in comp_ids:\n",
    "        _dts = [predictions[\"{}_protease_{}\".format(comp_id, str(pose))][0] for pose in poses]\n",
    "        _gts = [predictions[\"{}_protease_{}\".format(comp_id, str(pose))][1] for pose in poses]\n",
    "\n",
    "        assert len(set(_gts))\n",
    "\n",
    "        dts[\"best\"].append(_dts[0])\n",
    "        dts[\"highest\"].append(max(_dts))\n",
    "        dts[\"average\"].append(sum(_dts) / len(_dts))\n",
    "        gts.append(_gts[0])\n",
    "\n",
    "    gts = np.array(gts)\n",
    "    for method_name in method_names:\n",
    "        _dts = np.array(dts[method_name])\n",
    "        row = [exp_name, method_name] + [METRICS[metric_name]().calculate(_dts, gts) for metric_name in metric_names]\n",
    "        row = [str(r) for r in row]\n",
    "        print(\" \".join(row))\n",
    "        \n",
    "#     print()"
   ]
  },
  {
   "cell_type": "code",
   "execution_count": null,
   "id": "37eac281",
   "metadata": {},
   "outputs": [],
   "source": []
  }
 ],
 "metadata": {
  "kernelspec": {
   "display_name": "fast",
   "language": "python",
   "name": "fast"
  },
  "language_info": {
   "codemirror_mode": {
    "name": "ipython",
    "version": 3
   },
   "file_extension": ".py",
   "mimetype": "text/x-python",
   "name": "python",
   "nbconvert_exporter": "python",
   "pygments_lexer": "ipython3",
   "version": "3.8.13"
  }
 },
 "nbformat": 4,
 "nbformat_minor": 5
}
