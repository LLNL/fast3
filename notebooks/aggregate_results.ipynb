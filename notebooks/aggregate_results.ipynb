{
 "cells": [
  {
   "cell_type": "code",
   "execution_count": 1,
   "id": "f48d04e7",
   "metadata": {},
   "outputs": [],
   "source": [
    "import csv\n",
    "import json\n",
    "import os\n",
    "\n",
    "from collections import Counter"
   ]
  },
  {
   "cell_type": "code",
   "execution_count": 2,
   "id": "334bd12a",
   "metadata": {},
   "outputs": [
    {
     "data": {
      "text/html": [
       "<style>.container { width:98% !important; }</style>"
      ],
      "text/plain": [
       "<IPython.core.display.HTML object>"
      ]
     },
     "execution_count": 2,
     "metadata": {},
     "output_type": "execute_result"
    }
   ],
   "source": [
    "from IPython.display import clear_output\n",
    "from IPython.core.display import HTML\n",
    "HTML(\"<style>.container { width:98% !important; }</style>\")"
   ]
  },
  {
   "cell_type": "code",
   "execution_count": 3,
   "id": "760fb988",
   "metadata": {},
   "outputs": [
    {
     "name": "stdout",
     "output_type": "stream",
     "text": [
      "/g/g92/noh1/fast2\n"
     ]
    }
   ],
   "source": [
    "if os.path.basename(os.path.normpath(os.getcwd())) != \"fast2\":\n",
    "    os.chdir('..')\n",
    "print(os.getcwd())"
   ]
  },
  {
   "cell_type": "code",
   "execution_count": 4,
   "id": "4c711647",
   "metadata": {},
   "outputs": [
    {
     "data": {
      "text/plain": [
       "['PCN-20230427-132748-hpkptwmf-GENERAL+REFINED_AFFINE',\n",
       " 'PCN-20230427-132908-6ch2efuf-GENERAL+REFINED_AFFINE_x0.1']"
      ]
     },
     "execution_count": 4,
     "metadata": {},
     "output_type": "execute_result"
    }
   ],
   "source": [
    "validation = False\n",
    "\n",
    "train_name = \"pdbbind2020\"\n",
    "test_name = \"mpro\"\n",
    "set_name = \"test\" # \"core\"\n",
    "\n",
    "if validation:\n",
    "    test_set = \"valid_results.json\"\n",
    "else:\n",
    "    test_set = \"{}_{}/results.json\".format(test_name, set_name)\n",
    "\n",
    "result_dir = \"./results/{}\".format(train_name.upper())\n",
    "tag = \"20230427\"\n",
    "\n",
    "exp_names = sorted(os.listdir(result_dir))\n",
    "exp_names = [exp_name for exp_name in exp_names if (tag in exp_name)]\n",
    "exp_names"
   ]
  },
  {
   "cell_type": "code",
   "execution_count": 5,
   "id": "4bf24fcb",
   "metadata": {},
   "outputs": [
    {
     "name": "stdout",
     "output_type": "stream",
     "text": [
      "./results/PDBBIND2020/PCN-20230427-132748-hpkptwmf-GENERAL+REFINED_AFFINE/mpro_test/results.json\n",
      "./results/PDBBIND2020/PCN-20230427-132908-6ch2efuf-GENERAL+REFINED_AFFINE_x0.1/mpro_test/results.json\n"
     ]
    }
   ],
   "source": [
    "overall_results = []\n",
    "\n",
    "for exp_name in exp_names:\n",
    "    result_path = os.path.join(result_dir, exp_name, test_set)\n",
    "\n",
    "    if os.path.exists(result_path):\n",
    "        print(result_path)\n",
    "        with open(result_path, 'r') as f:\n",
    "            results = json.load(f)\n",
    "        overall_results.append({\n",
    "            \"exp_name\": exp_name,\n",
    "            \"metrics\": results\n",
    "        })\n",
    "    else:\n",
    "        print(\"Not exists: {}\".format(result_path))"
   ]
  },
  {
   "cell_type": "code",
   "execution_count": 7,
   "id": "c345279d",
   "metadata": {},
   "outputs": [
    {
     "name": "stdout",
     "output_type": "stream",
     "text": [
      "model rmse mae r2 pearson_r spearman_r epoch\n",
      "PCN-20230427-132748-hpkptwmf-GENERAL+REFINED_AFFINE 2.4388476827621597 2.2835164070129395 -7.7816751220189495 0.11095778360233988 0.10945274071684916 81\n",
      "PCN-20230427-132908-6ch2efuf-GENERAL+REFINED_AFFINE_x0.1 2.529809801091716 2.390916347503662 -8.448954517092762 0.2006404250679282 0.20076964678092432 98\n"
     ]
    }
   ],
   "source": [
    "metrics = list(overall_results[0][\"metrics\"].keys())\n",
    "header = [\"model\"] + metrics # [result[\"exp_name\"] for result in overall_results]\n",
    "print(\" \".join(header))\n",
    "for results in overall_results:\n",
    "    row = [results[\"exp_name\"]] + list(results[\"metrics\"].values())\n",
    "    row = [str(r) for r in row]\n",
    "    print(\" \".join(row))"
   ]
  },
  {
   "cell_type": "code",
   "execution_count": null,
   "id": "b600b6cc",
   "metadata": {},
   "outputs": [],
   "source": []
  }
 ],
 "metadata": {
  "kernelspec": {
   "display_name": "fast",
   "language": "python",
   "name": "fast"
  },
  "language_info": {
   "codemirror_mode": {
    "name": "ipython",
    "version": 3
   },
   "file_extension": ".py",
   "mimetype": "text/x-python",
   "name": "python",
   "nbconvert_exporter": "python",
   "pygments_lexer": "ipython3",
   "version": "3.8.13"
  }
 },
 "nbformat": 4,
 "nbformat_minor": 5
}
