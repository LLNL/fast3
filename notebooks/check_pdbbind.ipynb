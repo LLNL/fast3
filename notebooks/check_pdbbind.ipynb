{
 "cells": [
  {
   "cell_type": "code",
   "execution_count": 4,
   "id": "de5887b6",
   "metadata": {},
   "outputs": [],
   "source": [
    "import h5py\n",
    "import numpy as np\n",
    "\n",
    "import os"
   ]
  },
  {
   "cell_type": "code",
   "execution_count": 5,
   "id": "fb84d221",
   "metadata": {},
   "outputs": [
    {
     "data": {
      "text/html": [
       "<style>.container { width:98% !important; }</style>"
      ],
      "text/plain": [
       "<IPython.core.display.HTML object>"
      ]
     },
     "execution_count": 5,
     "metadata": {},
     "output_type": "execute_result"
    }
   ],
   "source": [
    "from IPython.display import clear_output\n",
    "from IPython.core.display import HTML\n",
    "HTML(\"<style>.container { width:98% !important; }</style>\")"
   ]
  },
  {
   "cell_type": "code",
   "execution_count": 6,
   "id": "b6cc3a8f",
   "metadata": {},
   "outputs": [
    {
     "name": "stdout",
     "output_type": "stream",
     "text": [
      "Current working directory: /usr/WS1/ranganath2/code/fast2\n"
     ]
    }
   ],
   "source": [
    "os.chdir(\"..\")\n",
    "print(\"Current working directory:\", os.getcwd())"
   ]
  },
  {
   "cell_type": "code",
   "execution_count": 7,
   "id": "43386fea",
   "metadata": {},
   "outputs": [],
   "source": [
    "from datasets.pdbbind import PDBBind2016, PDBBind2020"
   ]
  },
  {
   "cell_type": "code",
   "execution_count": 8,
   "id": "407b6931",
   "metadata": {},
   "outputs": [],
   "source": [
    "subsets_2016 = [\"general\", \"refined\", \"core\"]\n",
    "input_type = \"3d\"\n",
    "\n",
    "configs_2016 = {\n",
    "    \"preprocessing_type\": \"processed\",\n",
    "    \"feature_type\": \"pybel\",\n",
    "    \"input_type\": input_type,\n",
    "    \"max_atoms\": 2000,\n",
    "    \"use_docking\": False,\n",
    "}"
   ]
  },
  {
   "cell_type": "code",
   "execution_count": 22,
   "id": "10922bd1",
   "metadata": {},
   "outputs": [],
   "source": [
    "pdbbind_2016 = {subset: PDBBind2016(mode = \"train\", subset=subset, configs=configs_2016) for subset in subsets_2016}"
   ]
  },
  {
   "cell_type": "code",
   "execution_count": 23,
   "id": "32c6ec94",
   "metadata": {},
   "outputs": [
    {
     "name": "stdout",
     "output_type": "stream",
     "text": [
      "general 9226\n",
      "refined 3767\n",
      "core 290\n",
      "all 13283\n"
     ]
    }
   ],
   "source": [
    "total = 0\n",
    "for subset in subsets_2016:\n",
    "    n = len(pdbbind_2016[subset])\n",
    "    print(subset, n)\n",
    "    total += n\n",
    "print(\"all\", total)"
   ]
  },
  {
   "cell_type": "code",
   "execution_count": 127,
   "id": "d399482a",
   "metadata": {},
   "outputs": [],
   "source": [
    "# Let's try to figure out how many of these features are 0s\n",
    "# index = 1560\n",
    "indices = []\n",
    "for item in pdbbind_2016[\"refined\"]:\n",
    "    index = 0\n",
    "    while (item['data'].x_3d[0][index,:]!=0).any():\n",
    "        index += 1\n",
    "    \n",
    "    indices.append(index)\n",
    "\n"
   ]
  },
  {
   "cell_type": "code",
   "execution_count": 138,
   "id": "50b0de7c",
   "metadata": {},
   "outputs": [
    {
     "name": "stdout",
     "output_type": "stream",
     "text": [
      "Number of non-padded data: 3767\n",
      "Comprehensive data about the data:  Counter({426: 27, 372: 27, 383: 26, 401: 23, 422: 22, 411: 22, 404: 21, 423: 21, 417: 21, 434: 21, 460: 20, 437: 20, 367: 20, 440: 19, 361: 19, 410: 19, 409: 19, 338: 19, 381: 19, 351: 19, 449: 19, 530: 19, 413: 19, 370: 18, 483: 18, 390: 18, 378: 18, 398: 18, 371: 18, 414: 18, 387: 18, 369: 18, 471: 18, 480: 17, 385: 17, 416: 17, 497: 17, 389: 17, 376: 17, 458: 17, 428: 17, 400: 17, 392: 17, 432: 17, 465: 17, 474: 17, 391: 17, 356: 16, 362: 16, 394: 16, 452: 16, 424: 16, 516: 16, 492: 16, 446: 16, 443: 16, 425: 16, 365: 16, 374: 16, 502: 16, 386: 16, 462: 16, 373: 16, 415: 16, 489: 16, 402: 15, 408: 15, 350: 15, 354: 15, 442: 15, 406: 15, 503: 15, 403: 15, 384: 15, 499: 15, 336: 14, 363: 14, 375: 14, 433: 14, 395: 14, 379: 14, 549: 14, 320: 14, 357: 14, 546: 14, 388: 14, 343: 14, 473: 14, 447: 14, 377: 14, 412: 14, 524: 13, 345: 13, 341: 13, 418: 13, 393: 13, 450: 13, 346: 13, 427: 13, 496: 13, 380: 13, 333: 13, 525: 13, 490: 13, 535: 13, 461: 13, 519: 13, 538: 13, 517: 13, 475: 13, 537: 13, 431: 13, 523: 13, 303: 13, 493: 12, 448: 12, 468: 12, 325: 12, 348: 12, 476: 12, 568: 12, 430: 12, 319: 12, 360: 12, 509: 12, 420: 12, 445: 12, 472: 12, 532: 12, 463: 12, 321: 11, 500: 11, 419: 11, 314: 11, 327: 11, 444: 11, 484: 11, 307: 11, 515: 11, 347: 11, 529: 11, 405: 11, 487: 11, 457: 11, 335: 11, 459: 10, 331: 10, 311: 10, 486: 10, 552: 10, 531: 10, 510: 10, 488: 10, 506: 10, 399: 10, 494: 10, 555: 10, 479: 10, 429: 10, 364: 10, 329: 10, 454: 10, 505: 10, 342: 10, 436: 10, 382: 10, 317: 10, 355: 10, 438: 10, 545: 10, 542: 10, 358: 10, 512: 10, 366: 10, 298: 10, 337: 9, 544: 9, 352: 9, 284: 9, 326: 9, 514: 9, 507: 9, 557: 9, 491: 9, 569: 9, 560: 9, 547: 9, 310: 9, 536: 9, 316: 9, 498: 9, 435: 9, 397: 9, 466: 9, 349: 9, 455: 9, 353: 9, 482: 8, 464: 8, 501: 8, 396: 8, 301: 8, 318: 8, 533: 8, 247: 8, 439: 8, 541: 8, 359: 8, 236: 8, 309: 8, 300: 8, 495: 8, 291: 8, 305: 8, 282: 8, 451: 8, 556: 8, 441: 8, 456: 8, 539: 8, 330: 8, 324: 7, 550: 7, 596: 7, 543: 7, 421: 7, 522: 7, 469: 7, 344: 7, 559: 7, 323: 7, 508: 7, 368: 7, 334: 7, 290: 7, 534: 7, 407: 7, 527: 7, 575: 7, 294: 7, 275: 7, 526: 7, 322: 7, 551: 7, 511: 7, 540: 7, 328: 7, 339: 7, 315: 7, 594: 6, 600: 6, 283: 6, 264: 6, 586: 6, 599: 6, 467: 6, 286: 6, 478: 6, 504: 6, 288: 6, 513: 6, 548: 6, 576: 6, 332: 6, 579: 6, 263: 6, 240: 6, 590: 6, 528: 6, 570: 6, 340: 6, 295: 6, 279: 5, 245: 5, 601: 5, 602: 5, 261: 5, 518: 5, 249: 5, 574: 5, 254: 5, 572: 5, 289: 5, 573: 5, 306: 5, 313: 5, 248: 5, 260: 5, 485: 5, 470: 5, 477: 5, 563: 5, 297: 5, 581: 5, 558: 5, 520: 5, 561: 5, 453: 5, 564: 5, 296: 5, 277: 5, 634: 4, 620: 4, 614: 4, 553: 4, 308: 4, 299: 4, 255: 4, 270: 4, 665: 4, 244: 4, 253: 4, 603: 4, 292: 4, 273: 4, 302: 4, 266: 4, 565: 4, 643: 4, 582: 4, 251: 4, 304: 4, 613: 4, 583: 4, 258: 4, 623: 4, 280: 4, 226: 4, 562: 3, 276: 3, 609: 3, 615: 3, 628: 3, 619: 3, 566: 3, 271: 3, 242: 3, 293: 3, 567: 3, 257: 3, 597: 3, 554: 3, 585: 3, 259: 3, 685: 3, 219: 3, 595: 3, 231: 3, 230: 3, 237: 3, 578: 3, 285: 3, 274: 3, 262: 3, 256: 3, 252: 3, 652: 3, 233: 3, 281: 3, 278: 3, 637: 2, 612: 2, 629: 2, 584: 2, 250: 2, 764: 2, 801: 2, 653: 2, 604: 2, 312: 2, 688: 2, 636: 2, 607: 2, 674: 2, 659: 2, 268: 2, 571: 2, 588: 2, 580: 2, 632: 2, 222: 2, 631: 2, 593: 2, 238: 2, 662: 2, 686: 2, 666: 2, 267: 2, 791: 2, 610: 2, 608: 2, 678: 2, 241: 2, 208: 2, 287: 2, 481: 2, 744: 2, 577: 2, 223: 2, 202: 1, 668: 1, 697: 1, 639: 1, 647: 1, 627: 1, 521: 1, 624: 1, 625: 1, 982: 1, 818: 1, 787: 1, 721: 1, 708: 1, 763: 1, 673: 1, 640: 1, 196: 1, 630: 1, 265: 1, 589: 1, 197: 1, 902: 1, 718: 1, 232: 1, 663: 1, 661: 1, 203: 1, 605: 1, 217: 1, 189: 1, 955: 1, 858: 1, 792: 1, 735: 1, 742: 1, 726: 1, 190: 1, 616: 1, 929: 1, 819: 1, 649: 1, 743: 1, 224: 1, 214: 1, 621: 1, 699: 1, 591: 1, 650: 1, 638: 1, 730: 1, 660: 1, 769: 1, 734: 1, 771: 1, 667: 1, 646: 1, 706: 1, 228: 1, 664: 1, 272: 1, 243: 1, 234: 1, 757: 1, 765: 1, 748: 1, 145: 1, 155: 1, 641: 1, 681: 1, 696: 1, 269: 1, 239: 1, 227: 1, 199: 1, 654: 1, 200: 1, 198: 1, 182: 1, 225: 1, 235: 1, 841: 1, 682: 1, 598: 1, 717: 1, 211: 1, 205: 1, 766: 1, 813: 1, 680: 1, 210: 1, 216: 1, 690: 1, 695: 1, 816: 1, 687: 1, 229: 1, 676: 1, 644: 1})\n"
     ]
    }
   ],
   "source": [
    "from collections import Counter\n",
    "print(\"Number of non-padded data:\", len(indices))\n",
    "CountDict = Counter(list(indices))\n",
    "print(\"Comprehensive data about the data:\\\\ \",CountDict)"
   ]
  },
  {
   "cell_type": "code",
   "execution_count": null,
   "id": "96b648bc",
   "metadata": {},
   "outputs": [],
   "source": [
    "import matplotlib\n",
    "import matplotlib.pyplot as plt\n",
    "fix, ax = plt.subplots()\n",
    "\n",
    "x = "
   ]
  },
  {
   "cell_type": "code",
   "execution_count": 137,
   "id": "78a9224d",
   "metadata": {},
   "outputs": [
    {
     "name": "stdout",
     "output_type": "stream",
     "text": [
      "tensor([ 7.5785,  5.9279, -7.7265,  0.0000,  0.0000,  0.0000,  1.0000,  0.0000,\n",
      "         0.0000,  0.0000,  0.0000,  0.0000,  3.0000,  0.0000,  0.0000, -0.8340,\n",
      "        -1.0000,  0.0000,  0.0000,  1.0000,  1.0000,  0.0000])\n"
     ]
    }
   ],
   "source": [
    "print(pdbbind_2016[\"refined\"][0]['data'].x_3d[0][439])"
   ]
  },
  {
   "cell_type": "code",
   "execution_count": 97,
   "id": "1d67f51c",
   "metadata": {},
   "outputs": [],
   "source": [
    "subsets_2020 = [\"train\", \"val\", \"test\"]\n",
    "input_type = \"graph\"\n",
    "\n",
    "configs_2020 = {\n",
    "    \"input_type\": input_type,\n",
    "    \"max_atoms\": 2000,\n",
    "}"
   ]
  },
  {
   "cell_type": "code",
   "execution_count": 9,
   "id": "b69c0dbf",
   "metadata": {},
   "outputs": [],
   "source": [
    "pdbbind_2020 = {subset: PDBBind2020(subset=subset, configs=configs_2020) for subset in subsets_2020}"
   ]
  },
  {
   "cell_type": "code",
   "execution_count": 10,
   "id": "20421358",
   "metadata": {},
   "outputs": [
    {
     "name": "stdout",
     "output_type": "stream",
     "text": [
      "train 16876\n",
      "val 2275\n",
      "test 259\n",
      "all 19410\n"
     ]
    }
   ],
   "source": [
    "total = 0\n",
    "for subset in subsets_2020:\n",
    "    n = len(pdbbind_2020[subset])\n",
    "    print(subset, n)\n",
    "    total += n\n",
    "print(\"all\", total)"
   ]
  },
  {
   "cell_type": "code",
   "execution_count": null,
   "id": "5499d6a2",
   "metadata": {},
   "outputs": [],
   "source": []
  }
 ],
 "metadata": {
  "kernelspec": {
   "display_name": "Python 3 (ipykernel)",
   "language": "python",
   "name": "python3"
  },
  "language_info": {
   "codemirror_mode": {
    "name": "ipython",
    "version": 3
   },
   "file_extension": ".py",
   "mimetype": "text/x-python",
   "name": "python",
   "nbconvert_exporter": "python",
   "pygments_lexer": "ipython3",
   "version": "3.9.18"
  }
 },
 "nbformat": 4,
 "nbformat_minor": 5
}
