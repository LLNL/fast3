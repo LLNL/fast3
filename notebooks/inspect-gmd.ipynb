{
 "cells": [
  {
   "cell_type": "code",
   "execution_count": 1,
   "metadata": {},
   "outputs": [
    {
     "name": "stderr",
     "output_type": "stream",
     "text": [
      "/g/g92/noh1/.local/lib/python3.8/site-packages/tqdm/auto.py:22: TqdmWarning: IProgress not found. Please update jupyter and ipywidgets. See https://ipywidgets.readthedocs.io/en/stable/user_install.html\n",
      "  from .autonotebook import tqdm as notebook_tqdm\n"
     ]
    }
   ],
   "source": [
    "import matplotlib.pyplot as plt\n",
    "\n",
    "import h5py\n",
    "import numpy as np\n",
    "import pandas as pd\n",
    "import torch\n",
    "\n",
    "from collections import Counter\n",
    "\n",
    "from torch.utils.data import ConcatDataset, DataLoader\n",
    "from torch_geometric.data import DataListLoader"
   ]
  },
  {
   "cell_type": "code",
   "execution_count": 2,
   "metadata": {},
   "outputs": [
    {
     "data": {
      "text/html": [
       "<style>.container { width:98% !important; }</style>"
      ],
      "text/plain": [
       "<IPython.core.display.HTML object>"
      ]
     },
     "execution_count": 2,
     "metadata": {},
     "output_type": "execute_result"
    }
   ],
   "source": [
    "from IPython.display import clear_output\n",
    "from IPython.core.display import HTML\n",
    "HTML(\"<style>.container { width:98% !important; }</style>\")"
   ]
  },
  {
   "cell_type": "code",
   "execution_count": 3,
   "metadata": {},
   "outputs": [
    {
     "name": "stdout",
     "output_type": "stream",
     "text": [
      "Current working directory: /g/g92/noh1/fast2\n"
     ]
    }
   ],
   "source": [
    "os.chdir(\"..\")\n",
    "print(\"Current working directory:\", os.getcwd())"
   ]
  },
  {
   "cell_type": "code",
   "execution_count": 4,
   "metadata": {},
   "outputs": [
    {
     "name": "stdout",
     "output_type": "stream",
     "text": [
      "True\n"
     ]
    }
   ],
   "source": [
    "data_dir = \"./data/gmd\"\n",
    "file_name = \"gmd_fast2_input.h5\"\n",
    "file_path = os.path.join(data_dir, file_name)\n",
    "print(os.path.exists(file_path))"
   ]
  },
  {
   "cell_type": "code",
   "execution_count": 5,
   "metadata": {},
   "outputs": [],
   "source": [
    "f = h5py.File(file_path, 'r')"
   ]
  },
  {
   "cell_type": "code",
   "execution_count": 6,
   "metadata": {},
   "outputs": [],
   "source": [
    "data_names = list(f)"
   ]
  },
  {
   "cell_type": "code",
   "execution_count": 7,
   "metadata": {},
   "outputs": [
    {
     "data": {
      "text/plain": [
       "410"
      ]
     },
     "execution_count": 7,
     "metadata": {},
     "output_type": "execute_result"
    }
   ],
   "source": [
    "len(data_names)"
   ]
  },
  {
   "cell_type": "code",
   "execution_count": 8,
   "metadata": {},
   "outputs": [
    {
     "data": {
      "text/plain": [
       "['CHEMBL1204124_protease2_1',\n",
       " 'CHEMBL1204124_protease2_10',\n",
       " 'CHEMBL1204124_protease2_2',\n",
       " 'CHEMBL1204124_protease2_3',\n",
       " 'CHEMBL1204124_protease2_4',\n",
       " 'CHEMBL1204124_protease2_5',\n",
       " 'CHEMBL1204124_protease2_6',\n",
       " 'CHEMBL1204124_protease2_7',\n",
       " 'CHEMBL1204124_protease2_8',\n",
       " 'CHEMBL1204124_protease2_9',\n",
       " 'CHEMBL1204920_protease2_1',\n",
       " 'CHEMBL1204920_protease2_10',\n",
       " 'CHEMBL1204920_protease2_2',\n",
       " 'CHEMBL1204920_protease2_3',\n",
       " 'CHEMBL1204920_protease2_4']"
      ]
     },
     "execution_count": 8,
     "metadata": {},
     "output_type": "execute_result"
    }
   ],
   "source": [
    "data_names[:15]"
   ]
  },
  {
   "cell_type": "code",
   "execution_count": 9,
   "metadata": {},
   "outputs": [],
   "source": [
    "idx = 1\n",
    "name = data_names[idx]\n",
    "# print(f[name][\"spatial\"].attrs[\"affinity\"])"
   ]
  },
  {
   "cell_type": "code",
   "execution_count": 10,
   "metadata": {},
   "outputs": [
    {
     "data": {
      "text/plain": [
       "<KeysViewHDF5 []>"
      ]
     },
     "execution_count": 10,
     "metadata": {},
     "output_type": "execute_result"
    }
   ],
   "source": [
    "f.attrs.keys()"
   ]
  },
  {
   "cell_type": "code",
   "execution_count": 11,
   "metadata": {},
   "outputs": [
    {
     "name": "stdout",
     "output_type": "stream",
     "text": [
      "spatial\n",
      "   <HDF5 dataset \"coords\": shape (440, 3), type \"<f4\">\n",
      "   <HDF5 dataset \"dists\": shape (440, 440), type \"<f4\">\n",
      "   <HDF5 dataset \"node_feats\": shape (440, 20), type \"<f4\">\n"
     ]
    }
   ],
   "source": [
    "# attr_names = list(f.attrs.keys())\n",
    "# for attr_name in attr_names:\n",
    "#     attr_value = f.attrs[attr_name]\n",
    "#     print(f\"Attribute '{attr_name}': {attr_value}\")\n",
    "\n",
    "for k in f[name].keys():\n",
    "    print(k)\n",
    "    for info in f[name][k]:\n",
    "        print(\"  \", f[name][k][info])"
   ]
  },
  {
   "cell_type": "code",
   "execution_count": 12,
   "metadata": {},
   "outputs": [
    {
     "data": {
      "text/plain": [
       "array([[-0.04844284,  0.6784439 , -0.6302967 ],\n",
       "       [ 1.0345573 , -1.2185555 ,  2.6367035 ],\n",
       "       [-1.1584435 , -0.15955544,  3.0217037 ],\n",
       "       ...,\n",
       "       [-5.0784454 , -7.2135563 , 17.106703  ],\n",
       "       [-5.1464424 , -8.748556  , 17.001703  ],\n",
       "       [-4.162445  , -9.310556  , 16.037703  ]], dtype=float32)"
      ]
     },
     "execution_count": 12,
     "metadata": {},
     "output_type": "execute_result"
    }
   ],
   "source": [
    "f[name][\"spatial\"][\"coords\"][:]"
   ]
  },
  {
   "cell_type": "code",
   "execution_count": 13,
   "metadata": {},
   "outputs": [
    {
     "data": {
      "text/plain": [
       "array([[1.7 , 0.  , 1.  , ..., 0.  , 0.  , 0.  ],\n",
       "       [1.7 , 0.  , 1.  , ..., 0.  , 0.  , 1.  ],\n",
       "       [1.7 , 0.  , 1.  , ..., 0.  , 0.  , 1.  ],\n",
       "       ...,\n",
       "       [1.7 , 0.  , 1.  , ..., 0.  , 0.  , 0.  ],\n",
       "       [1.7 , 0.  , 1.  , ..., 0.  , 0.  , 0.  ],\n",
       "       [1.55, 0.  , 0.  , ..., 1.  , 1.  , 0.  ]], dtype=float32)"
      ]
     },
     "execution_count": 13,
     "metadata": {},
     "output_type": "execute_result"
    }
   ],
   "source": [
    "f[name][\"spatial\"][\"node_feats\"][:]"
   ]
  },
  {
   "cell_type": "code",
   "execution_count": 14,
   "metadata": {},
   "outputs": [
    {
     "data": {
      "text/plain": [
       "array([[ 0.       ,  3.9299855,  3.9078705, ..., 20.05457  , 20.633598 ,\n",
       "        19.862713 ],\n",
       "       [ 3.9299855,  0.       ,  2.4655545, ..., 16.81338  , 17.356812 ,\n",
       "        16.49473  ],\n",
       "       [ 3.9078705,  2.4655545,  0.       , ..., 16.23307  , 16.885363 ,\n",
       "        16.192007 ],\n",
       "       ...,\n",
       "       [20.05457  , 16.81338  , 16.23307  , ...,  0.       ,  1.5400887,\n",
       "         2.5257132],\n",
       "       [20.633598 , 17.356812 , 16.885363 , ...,  1.5400887,  0.       ,\n",
       "         1.4877474],\n",
       "       [19.862713 , 16.49473  , 16.192007 , ...,  2.5257132,  1.4877474,\n",
       "         0.       ]], dtype=float32)"
      ]
     },
     "execution_count": 14,
     "metadata": {},
     "output_type": "execute_result"
    }
   ],
   "source": [
    "f[name][\"spatial\"][\"dists\"][:]"
   ]
  },
  {
   "cell_type": "code",
   "execution_count": 15,
   "metadata": {},
   "outputs": [
    {
     "data": {
      "text/plain": [
       "(440, 23)"
      ]
     },
     "execution_count": 15,
     "metadata": {},
     "output_type": "execute_result"
    }
   ],
   "source": [
    "x = np.concatenate((f[name][\"spatial\"][\"coords\"][:], f[name][\"spatial\"][\"node_feats\"][:]), axis=-1)\n",
    "x.shape"
   ]
  },
  {
   "cell_type": "code",
   "execution_count": 16,
   "metadata": {},
   "outputs": [
    {
     "data": {
      "text/plain": [
       "array([[-0.04844284,  0.6784439 , -0.6302967 , ...,  0.        ,\n",
       "         0.        ,  0.        ],\n",
       "       [ 1.0345573 , -1.2185555 ,  2.6367035 , ...,  0.        ,\n",
       "         0.        ,  1.        ],\n",
       "       [-1.1584435 , -0.15955544,  3.0217037 , ...,  0.        ,\n",
       "         0.        ,  1.        ],\n",
       "       ...,\n",
       "       [-5.0784454 , -7.2135563 , 17.106703  , ...,  0.        ,\n",
       "         0.        ,  0.        ],\n",
       "       [-5.1464424 , -8.748556  , 17.001703  , ...,  0.        ,\n",
       "         0.        ,  0.        ],\n",
       "       [-4.162445  , -9.310556  , 16.037703  , ...,  1.        ,\n",
       "         1.        ,  0.        ]], dtype=float32)"
      ]
     },
     "execution_count": 16,
     "metadata": {},
     "output_type": "execute_result"
    }
   ],
   "source": [
    "x"
   ]
  },
  {
   "cell_type": "code",
   "execution_count": 17,
   "metadata": {},
   "outputs": [
    {
     "name": "stdout",
     "output_type": "stream",
     "text": [
      "['CHEMBL436136', 'CHEMBL3357118', 'CHEMBL436993', 'CHEMBL434334', 'CHEMBL4520950', 'CHEMBL431724', 'CHEMBL433967', 'CHEMBL436353', 'CHEMBL433975', 'CHEMBL1205015']\n"
     ]
    },
    {
     "data": {
      "text/plain": [
       "41"
      ]
     },
     "execution_count": 17,
     "metadata": {},
     "output_type": "execute_result"
    }
   ],
   "source": [
    "def get_compound_id(docking_id):\n",
    "    return docking_id.rsplit(\"_\", 2)[0]\n",
    "\n",
    "compound_ids = set([get_compound_id(docking_id) for docking_id in data_names])\n",
    "print(list(compound_ids)[:10])\n",
    "len(compound_ids)"
   ]
  },
  {
   "cell_type": "code",
   "execution_count": null,
   "metadata": {},
   "outputs": [],
   "source": []
  }
 ],
 "metadata": {
  "kernelspec": {
   "display_name": "fast",
   "language": "python",
   "name": "fast"
  },
  "language_info": {
   "codemirror_mode": {
    "name": "ipython",
    "version": 3
   },
   "file_extension": ".py",
   "mimetype": "text/x-python",
   "name": "python",
   "nbconvert_exporter": "python",
   "pygments_lexer": "ipython3",
   "version": "3.8.13"
  }
 },
 "nbformat": 4,
 "nbformat_minor": 4
}
