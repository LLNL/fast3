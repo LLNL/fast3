{
 "cells": [
  {
   "cell_type": "code",
   "execution_count": 1,
   "metadata": {},
   "outputs": [
    {
     "name": "stderr",
     "output_type": "stream",
     "text": [
      "/g/g92/noh1/.local/lib/python3.8/site-packages/tqdm/auto.py:22: TqdmWarning: IProgress not found. Please update jupyter and ipywidgets. See https://ipywidgets.readthedocs.io/en/stable/user_install.html\n",
      "  from .autonotebook import tqdm as notebook_tqdm\n"
     ]
    }
   ],
   "source": [
    "import matplotlib.pyplot as plt\n",
    "\n",
    "import h5py\n",
    "import numpy as np\n",
    "import pandas as pd\n",
    "import torch\n",
    "\n",
    "from collections import Counter\n",
    "\n",
    "from torch.utils.data import ConcatDataset, DataLoader\n",
    "from torch_geometric.data import DataListLoader"
   ]
  },
  {
   "cell_type": "code",
   "execution_count": 2,
   "metadata": {},
   "outputs": [
    {
     "data": {
      "text/html": [
       "<style>.container { width:98% !important; }</style>"
      ],
      "text/plain": [
       "<IPython.core.display.HTML object>"
      ]
     },
     "execution_count": 2,
     "metadata": {},
     "output_type": "execute_result"
    }
   ],
   "source": [
    "from IPython.display import clear_output\n",
    "from IPython.core.display import HTML\n",
    "HTML(\"<style>.container { width:98% !important; }</style>\")"
   ]
  },
  {
   "cell_type": "code",
   "execution_count": 3,
   "metadata": {},
   "outputs": [
    {
     "name": "stdout",
     "output_type": "stream",
     "text": [
      "Current working directory: /g/g92/noh1/fast2\n"
     ]
    }
   ],
   "source": [
    "os.chdir(\"..\")\n",
    "print(\"Current working directory:\", os.getcwd())"
   ]
  },
  {
   "cell_type": "code",
   "execution_count": 4,
   "metadata": {},
   "outputs": [
    {
     "name": "stdout",
     "output_type": "stream",
     "text": [
      "True\n"
     ]
    }
   ],
   "source": [
    "data_dir = \"./data/mpro\"\n",
    "file_name = \"gmd_postera_protease_pos.h5\"\n",
    "file_path = os.path.join(data_dir, file_name)\n",
    "print(os.path.exists(file_path))"
   ]
  },
  {
   "cell_type": "code",
   "execution_count": 5,
   "metadata": {},
   "outputs": [],
   "source": [
    "f = h5py.File(file_path, 'r')"
   ]
  },
  {
   "cell_type": "code",
   "execution_count": 6,
   "metadata": {},
   "outputs": [],
   "source": [
    "data_names = list(f)"
   ]
  },
  {
   "cell_type": "code",
   "execution_count": 7,
   "metadata": {},
   "outputs": [
    {
     "data": {
      "text/plain": [
       "15010"
      ]
     },
     "execution_count": 7,
     "metadata": {},
     "output_type": "execute_result"
    }
   ],
   "source": [
    "len(data_names)"
   ]
  },
  {
   "cell_type": "code",
   "execution_count": 8,
   "metadata": {},
   "outputs": [
    {
     "data": {
      "text/plain": [
       "['AAR-POS-0daf6b7e-23_protease_1',\n",
       " 'AAR-POS-0daf6b7e-23_protease_10',\n",
       " 'AAR-POS-0daf6b7e-23_protease_2',\n",
       " 'AAR-POS-0daf6b7e-23_protease_3',\n",
       " 'AAR-POS-0daf6b7e-23_protease_4',\n",
       " 'AAR-POS-0daf6b7e-23_protease_5',\n",
       " 'AAR-POS-0daf6b7e-23_protease_6',\n",
       " 'AAR-POS-0daf6b7e-23_protease_7',\n",
       " 'AAR-POS-0daf6b7e-23_protease_8',\n",
       " 'AAR-POS-0daf6b7e-23_protease_9',\n",
       " 'AAR-POS-5507155c-1_protease_1',\n",
       " 'AAR-POS-5507155c-1_protease_10',\n",
       " 'AAR-POS-5507155c-1_protease_2',\n",
       " 'AAR-POS-5507155c-1_protease_3',\n",
       " 'AAR-POS-5507155c-1_protease_4']"
      ]
     },
     "execution_count": 8,
     "metadata": {},
     "output_type": "execute_result"
    }
   ],
   "source": [
    "data_names[:15]"
   ]
  },
  {
   "cell_type": "code",
   "execution_count": 9,
   "metadata": {},
   "outputs": [],
   "source": [
    "idx = 1\n",
    "name = data_names[idx]\n",
    "# print(f[name][\"spatial\"].attrs[\"affinity\"])"
   ]
  },
  {
   "cell_type": "code",
   "execution_count": 10,
   "metadata": {},
   "outputs": [
    {
     "data": {
      "text/plain": [
       "<KeysViewHDF5 []>"
      ]
     },
     "execution_count": 10,
     "metadata": {},
     "output_type": "execute_result"
    }
   ],
   "source": [
    "f.attrs.keys()"
   ]
  },
  {
   "cell_type": "code",
   "execution_count": 11,
   "metadata": {},
   "outputs": [
    {
     "name": "stdout",
     "output_type": "stream",
     "text": [
      "spatial\n",
      "   <HDF5 dataset \"coords\": shape (442, 3), type \"<f4\">\n",
      "   <HDF5 dataset \"dists\": shape (442, 442), type \"<f4\">\n",
      "   <HDF5 dataset \"node_feats\": shape (442, 20), type \"<f4\">\n",
      "voxelized\n",
      "   <HDF5 dataset \"data0\": shape (19, 48, 48, 48), type \"<f4\">\n"
     ]
    }
   ],
   "source": [
    "# attr_names = list(f.attrs.keys())\n",
    "# for attr_name in attr_names:\n",
    "#     attr_value = f.attrs[attr_name]\n",
    "#     print(f\"Attribute '{attr_name}': {attr_value}\")\n",
    "\n",
    "for k in f[name].keys():\n",
    "    print(k)\n",
    "    for info in f[name][k]:\n",
    "        print(\"  \", f[name][k][info])"
   ]
  },
  {
   "cell_type": "code",
   "execution_count": 12,
   "metadata": {},
   "outputs": [
    {
     "data": {
      "text/plain": [
       "array([[ 0.11213303,  0.02486706,  1.3006668 ],\n",
       "       [ 0.29113293, -0.44513226,  2.4366684 ],\n",
       "       [-0.5678663 , -0.5981331 ,  0.23966217],\n",
       "       ...,\n",
       "       [ 1.8601332 , -3.086133  ,  6.420662  ],\n",
       "       [ 1.862133  , -2.5641327 ,  5.305664  ],\n",
       "       [ 2.9411335 , -3.6461325 ,  6.952667  ]], dtype=float32)"
      ]
     },
     "execution_count": 12,
     "metadata": {},
     "output_type": "execute_result"
    }
   ],
   "source": [
    "f[name][\"spatial\"][\"coords\"][:]"
   ]
  },
  {
   "cell_type": "code",
   "execution_count": 13,
   "metadata": {},
   "outputs": [
    {
     "data": {
      "text/plain": [
       "array([[1.7 , 0.  , 1.  , ..., 0.  , 0.  , 0.  ],\n",
       "       [1.52, 0.  , 0.  , ..., 1.  , 0.  , 0.  ],\n",
       "       [1.55, 0.  , 0.  , ..., 1.  , 1.  , 0.  ],\n",
       "       ...,\n",
       "       [1.7 , 0.  , 1.  , ..., 0.  , 0.  , 0.  ],\n",
       "       [1.52, 0.  , 0.  , ..., 1.  , 0.  , 0.  ],\n",
       "       [1.55, 0.  , 0.  , ..., 1.  , 1.  , 0.  ]], dtype=float32)"
      ]
     },
     "execution_count": 13,
     "metadata": {},
     "output_type": "execute_result"
    }
   ],
   "source": [
    "f[name][\"spatial\"][\"node_feats\"][:]"
   ]
  },
  {
   "cell_type": "code",
   "execution_count": 14,
   "metadata": {},
   "outputs": [
    {
     "data": {
      "text/plain": [
       "array([[0.       , 1.2423526, 1.4057949, ..., 6.2408476, 5.0799036,\n",
       "        7.3092127],\n",
       "       [1.2423526, 0.       , 2.3639216, ..., 5.0307903, 3.8973503,\n",
       "        6.137031 ],\n",
       "       [1.4057949, 2.3639216, 0.       , ..., 7.0915504, 5.9526825,\n",
       "        8.165036 ],\n",
       "       ...,\n",
       "       [6.2408476, 5.0307903, 7.0915504, ..., 0.       , 1.2311412,\n",
       "        1.3286048],\n",
       "       [5.0799036, 3.8973503, 5.9526825, ..., 1.2311412, 0.       ,\n",
       "        2.2466831],\n",
       "       [7.3092127, 6.137031 , 8.165036 , ..., 1.3286048, 2.2466831,\n",
       "        0.       ]], dtype=float32)"
      ]
     },
     "execution_count": 14,
     "metadata": {},
     "output_type": "execute_result"
    }
   ],
   "source": [
    "f[name][\"spatial\"][\"dists\"][:]"
   ]
  },
  {
   "cell_type": "code",
   "execution_count": 15,
   "metadata": {},
   "outputs": [
    {
     "data": {
      "text/plain": [
       "(442, 23)"
      ]
     },
     "execution_count": 15,
     "metadata": {},
     "output_type": "execute_result"
    }
   ],
   "source": [
    "x = np.concatenate((f[name][\"spatial\"][\"coords\"][:], f[name][\"spatial\"][\"node_feats\"][:]), axis=-1)\n",
    "x.shape"
   ]
  },
  {
   "cell_type": "code",
   "execution_count": 16,
   "metadata": {},
   "outputs": [
    {
     "data": {
      "text/plain": [
       "array([[ 0.11213303,  0.02486706,  1.3006668 , ...,  0.        ,\n",
       "         0.        ,  0.        ],\n",
       "       [ 0.29113293, -0.44513226,  2.4366684 , ...,  1.        ,\n",
       "         0.        ,  0.        ],\n",
       "       [-0.5678663 , -0.5981331 ,  0.23966217, ...,  1.        ,\n",
       "         1.        ,  0.        ],\n",
       "       ...,\n",
       "       [ 1.8601332 , -3.086133  ,  6.420662  , ...,  0.        ,\n",
       "         0.        ,  0.        ],\n",
       "       [ 1.862133  , -2.5641327 ,  5.305664  , ...,  1.        ,\n",
       "         0.        ,  0.        ],\n",
       "       [ 2.9411335 , -3.6461325 ,  6.952667  , ...,  1.        ,\n",
       "         1.        ,  0.        ]], dtype=float32)"
      ]
     },
     "execution_count": 16,
     "metadata": {},
     "output_type": "execute_result"
    }
   ],
   "source": [
    "x"
   ]
  },
  {
   "cell_type": "code",
   "execution_count": 17,
   "metadata": {},
   "outputs": [
    {
     "name": "stdout",
     "output_type": "stream",
     "text": [
      "['MAT-POS-edabd372-2', 'EDJ-MED-e4b030d8-2', 'ALP-POS-902f21bb-1', 'MAT-POS-e9e99895-8', 'LON-WEI-b2874fec-19', 'LOR-NEU-c8f11034-2', 'EDJ-MED-cf4b0d25-3', 'STU-CHA-6cae54d3-1', 'LON-WEI-4d77710c-49', 'MAT-POS-9ff17035-3']\n"
     ]
    },
    {
     "data": {
      "text/plain": [
       "1501"
      ]
     },
     "execution_count": 17,
     "metadata": {},
     "output_type": "execute_result"
    }
   ],
   "source": [
    "def get_compound_id(docking_id):\n",
    "    return docking_id.rsplit(\"_\", 2)[0]\n",
    "\n",
    "compound_ids = set([get_compound_id(docking_id) for docking_id in data_names])\n",
    "print(list(compound_ids)[:10])\n",
    "len(compound_ids)"
   ]
  },
  {
   "cell_type": "code",
   "execution_count": 18,
   "metadata": {},
   "outputs": [
    {
     "data": {
      "text/html": [
       "<div>\n",
       "<style scoped>\n",
       "    .dataframe tbody tr th:only-of-type {\n",
       "        vertical-align: middle;\n",
       "    }\n",
       "\n",
       "    .dataframe tbody tr th {\n",
       "        vertical-align: top;\n",
       "    }\n",
       "\n",
       "    .dataframe thead th {\n",
       "        text-align: right;\n",
       "    }\n",
       "</style>\n",
       "<table border=\"1\" class=\"dataframe\">\n",
       "  <thead>\n",
       "    <tr style=\"text-align: right;\">\n",
       "      <th></th>\n",
       "      <th>compound_id</th>\n",
       "      <th>SMILES</th>\n",
       "      <th>relation</th>\n",
       "      <th>activity</th>\n",
       "      <th>activity_type</th>\n",
       "    </tr>\n",
       "  </thead>\n",
       "  <tbody>\n",
       "    <tr>\n",
       "      <th>0</th>\n",
       "      <td>GoStar-gvk_125547054</td>\n",
       "      <td>CC(C)(C)NC(=O)N[C@H](C(=O)N1C[C@H]2[C@@H]([C@H...</td>\n",
       "      <td>NaN</td>\n",
       "      <td>5.681024</td>\n",
       "      <td>pIC50</td>\n",
       "    </tr>\n",
       "    <tr>\n",
       "      <th>1</th>\n",
       "      <td>PostEra-EDJ-MED-cf4b0d25-4</td>\n",
       "      <td>CC(=O)NC(C(=O)Nc1cncc2ccccc12)c1cccc(Cl)c1</td>\n",
       "      <td>NaN</td>\n",
       "      <td>5.039634</td>\n",
       "      <td>pIC50</td>\n",
       "    </tr>\n",
       "    <tr>\n",
       "      <th>2</th>\n",
       "      <td>PostEra-EDJ-MED-976a33d5-1</td>\n",
       "      <td>CNC(=O)C1(N2CC3(CCN(c4cncc5ccccc45)C3=O)c3cc(C...</td>\n",
       "      <td>NaN</td>\n",
       "      <td>7.044005</td>\n",
       "      <td>pIC50</td>\n",
       "    </tr>\n",
       "    <tr>\n",
       "      <th>3</th>\n",
       "      <td>PostEra-MAT-POS-044491d2-1</td>\n",
       "      <td>Cc1ccncc1NC(=O)Cc1cc(Cl)cc(NC2CCCC2O)c1</td>\n",
       "      <td>NaN</td>\n",
       "      <td>4.705479</td>\n",
       "      <td>pIC50</td>\n",
       "    </tr>\n",
       "    <tr>\n",
       "      <th>4</th>\n",
       "      <td>PostEra-MAT-POS-932d1078-3</td>\n",
       "      <td>CO[C@@]1(C(=O)Nc2cncc3ccccc23)CCOc2c(F)cc(F)cc21</td>\n",
       "      <td>NaN</td>\n",
       "      <td>6.691330</td>\n",
       "      <td>pIC50</td>\n",
       "    </tr>\n",
       "    <tr>\n",
       "      <th>...</th>\n",
       "      <td>...</td>\n",
       "      <td>...</td>\n",
       "      <td>...</td>\n",
       "      <td>...</td>\n",
       "      <td>...</td>\n",
       "    </tr>\n",
       "    <tr>\n",
       "      <th>2264</th>\n",
       "      <td>GoStar-gvk_125563878</td>\n",
       "      <td>CC(C)C[C@H](NC(=O)OCC(C)(C)c1cccc(Cl)c1)C(=O)N...</td>\n",
       "      <td>NaN</td>\n",
       "      <td>7.000000</td>\n",
       "      <td>pIC50</td>\n",
       "    </tr>\n",
       "    <tr>\n",
       "      <th>2265</th>\n",
       "      <td>GoStar-gvk_125563953</td>\n",
       "      <td>O=C[C@H](CC1CC2(CCCC2)NC1=O)NC(=O)[C@H](CC1CCC...</td>\n",
       "      <td>NaN</td>\n",
       "      <td>6.975925</td>\n",
       "      <td>pIC50</td>\n",
       "    </tr>\n",
       "    <tr>\n",
       "      <th>2266</th>\n",
       "      <td>GoStar-gvk_125563804</td>\n",
       "      <td>CCCCCOC(=O)N[C@@H](CC1CCCCC1)C(=O)N[C@H](C=O)C...</td>\n",
       "      <td>NaN</td>\n",
       "      <td>4.422508</td>\n",
       "      <td>pIC50</td>\n",
       "    </tr>\n",
       "    <tr>\n",
       "      <th>2267</th>\n",
       "      <td>GoStar-gvk_125436286</td>\n",
       "      <td>CC(C)(C)C[C@H](NC(=O)c1cc2c(Cl)cc(Cl)cc2[nH]1)...</td>\n",
       "      <td>&gt;</td>\n",
       "      <td>5.698970</td>\n",
       "      <td>pIC50</td>\n",
       "    </tr>\n",
       "    <tr>\n",
       "      <th>2268</th>\n",
       "      <td>GoStar-gvk_125549098</td>\n",
       "      <td>CC(C)(C)[C@H](NC(=O)Cc1ccccc1)C(=O)N1C[C@H]2[C...</td>\n",
       "      <td>&gt;</td>\n",
       "      <td>7.000000</td>\n",
       "      <td>pIC50</td>\n",
       "    </tr>\n",
       "  </tbody>\n",
       "</table>\n",
       "<p>2269 rows × 5 columns</p>\n",
       "</div>"
      ],
      "text/plain": [
       "                     compound_id  \\\n",
       "0           GoStar-gvk_125547054   \n",
       "1     PostEra-EDJ-MED-cf4b0d25-4   \n",
       "2     PostEra-EDJ-MED-976a33d5-1   \n",
       "3     PostEra-MAT-POS-044491d2-1   \n",
       "4     PostEra-MAT-POS-932d1078-3   \n",
       "...                          ...   \n",
       "2264        GoStar-gvk_125563878   \n",
       "2265        GoStar-gvk_125563953   \n",
       "2266        GoStar-gvk_125563804   \n",
       "2267        GoStar-gvk_125436286   \n",
       "2268        GoStar-gvk_125549098   \n",
       "\n",
       "                                                 SMILES relation  activity  \\\n",
       "0     CC(C)(C)NC(=O)N[C@H](C(=O)N1C[C@H]2[C@@H]([C@H...      NaN  5.681024   \n",
       "1            CC(=O)NC(C(=O)Nc1cncc2ccccc12)c1cccc(Cl)c1      NaN  5.039634   \n",
       "2     CNC(=O)C1(N2CC3(CCN(c4cncc5ccccc45)C3=O)c3cc(C...      NaN  7.044005   \n",
       "3               Cc1ccncc1NC(=O)Cc1cc(Cl)cc(NC2CCCC2O)c1      NaN  4.705479   \n",
       "4      CO[C@@]1(C(=O)Nc2cncc3ccccc23)CCOc2c(F)cc(F)cc21      NaN  6.691330   \n",
       "...                                                 ...      ...       ...   \n",
       "2264  CC(C)C[C@H](NC(=O)OCC(C)(C)c1cccc(Cl)c1)C(=O)N...      NaN  7.000000   \n",
       "2265  O=C[C@H](CC1CC2(CCCC2)NC1=O)NC(=O)[C@H](CC1CCC...      NaN  6.975925   \n",
       "2266  CCCCCOC(=O)N[C@@H](CC1CCCCC1)C(=O)N[C@H](C=O)C...      NaN  4.422508   \n",
       "2267  CC(C)(C)C[C@H](NC(=O)c1cc2c(Cl)cc(Cl)cc2[nH]1)...        >  5.698970   \n",
       "2268  CC(C)(C)[C@H](NC(=O)Cc1ccccc1)C(=O)N1C[C@H]2[C...        >  7.000000   \n",
       "\n",
       "     activity_type  \n",
       "0            pIC50  \n",
       "1            pIC50  \n",
       "2            pIC50  \n",
       "3            pIC50  \n",
       "4            pIC50  \n",
       "...            ...  \n",
       "2264         pIC50  \n",
       "2265         pIC50  \n",
       "2266         pIC50  \n",
       "2267         pIC50  \n",
       "2268         pIC50  \n",
       "\n",
       "[2269 rows x 5 columns]"
      ]
     },
     "execution_count": 18,
     "metadata": {},
     "output_type": "execute_result"
    }
   ],
   "source": [
    "compound_info = pd.read_csv(os.path.join(data_dir, \"updated_mpro_positive_compounds.csv\"))\n",
    "compound_info = compound_info[compound_info.activity_type == \"pIC50\"]\n",
    "compound_info"
   ]
  },
  {
   "cell_type": "code",
   "execution_count": 19,
   "metadata": {},
   "outputs": [
    {
     "data": {
      "text/plain": [
       "<AxesSubplot: >"
      ]
     },
     "execution_count": 19,
     "metadata": {},
     "output_type": "execute_result"
    },
    {
     "data": {
      "image/png": "[encoded data removed]",
      "text/plain": [
       "<Figure size 640x480 with 1 Axes>"
      ]
     },
     "metadata": {},
     "output_type": "display_data"
    }
   ],
   "source": [
    "compound_info.activity.hist()"
   ]
  },
  {
   "cell_type": "code",
   "execution_count": 20,
   "metadata": {},
   "outputs": [
    {
     "data": {
      "text/plain": [
       "False    2269\n",
       "Name: activity, dtype: int64"
      ]
     },
     "execution_count": 20,
     "metadata": {},
     "output_type": "execute_result"
    }
   ],
   "source": [
    "compound_info.activity.isna().value_counts()"
   ]
  },
  {
   "cell_type": "code",
   "execution_count": 21,
   "metadata": {},
   "outputs": [
    {
     "name": "stdout",
     "output_type": "stream",
     "text": [
      "Counter({'PostEra': 1313, 'GoStar': 803, 'Kitamura': 32, 'Kneller': 8, 'Gentile': 8, 'world_drugs': 5, 'enamine': 4, 'other': 4, 'emolecules': 4, 'CHEMBL566136': 1, 'CHEMBL4303376': 1, 'CHEMBL1374426': 1, 'CHEMBL188434': 1, 'CHEMBL505670': 1, 'CHEMBL1201236': 1, 'CHEMBL505308': 1, 'CHEMBL111654': 1, 'CHEMBL119171': 1, 'CHEMBL4303312': 1, 'CHEMBL9116': 1, 'CHEMBL929': 1, 'CHEMBL4303361': 1, 'CHEMBL1977761': 1, 'CHEMBL3545085': 1, 'CHEMBL477197': 1, 'CHEMBL8260': 1, 'CHEMBL1886408': 1, 'CHEMBL2368547': 1, 'CHEMBL1382627': 1, 'CHEMBL4303503': 1, 'CHEMBL164': 1, 'CHEMBL444186': 1, 'CHEMBL596674': 1, 'CHEMBL226652': 1, 'CHEMBL1201073': 1, 'CHEMBL128251': 1, 'CHEMBL1356238': 1, 'CHEMBL1271993': 1, 'CHEMBL52': 1, 'CHEMBL508112': 1, 'CHEMBL480': 1, 'CHEMBL508280': 1, 'CHEMBL297453': 1, 'CHEMBL178459': 1, 'CHEMBL1200930': 1, 'CHEMBL66953': 1, 'CHEMBL55400': 1, 'CHEMBL3392049': 1, 'CHEMBL388676': 1, 'CHEMBL271023': 1, 'CHEMBL1188627': 1, 'CHEMBL1380480': 1, 'CHEMBL1616': 1, 'chembl': 1, 'CHEMBL403183': 1, 'CHEMBL2107818': 1, 'CHEMBL4303618': 1, 'CHEMBL1256832': 1, 'CHEMBL3348861': 1, 'CHEMBL1475252': 1, 'CHEMBL4303331': 1, 'CHEMBL1608472': 1, 'CHEMBL571700': 1, 'CHEMBL3963349': 1, 'CHEMBL1591074': 1, 'CHEMBL472940': 1, 'CHEMBL449298': 1, 'CHEMBL1096979': 1, 'CHEMBL1725120': 1, 'CHEMBL289356': 1, 'CHEMBL324842': 1, 'CHEMBL1474701': 1, 'CHEMBL1422849': 1, 'CHEMBL259018': 1, 'CHEMBL3797437': 1, 'CHEMBL60718': 1, 'CHEMBL4303622': 1, 'CHEMBL329522': 1, 'CHEMBL3665060': 1, 'CHEMBL120563': 1, 'CHEMBL1256915': 1, 'CHEMBL154580': 1, 'CHEMBL1408862': 1, 'CHEMBL444478': 1, 'CHEMBL243652': 1, 'CHEMBL105712': 1, 'CHEMBL4303595': 1, 'CHEMBL3747259': 1, 'CHEMBL4303154': 1, 'CHEMBL488755': 1, 'CHEMBL1449651': 1, 'CHEMBL510038': 1, 'CHEMBL1161936': 1, 'CHEMBL270299': 1, 'CHEMBL1917204': 1, 'CHEMBL2354521': 1, 'CHEMBL518800': 1})\n"
     ]
    }
   ],
   "source": [
    "def get_prefix(cid):\n",
    "    return cid.split(\"-\", 1)[0]\n",
    "\n",
    "cid_prefix = [get_prefix(cid) for cid in compound_info.compound_id]\n",
    "ftbl = Counter(cid_prefix)\n",
    "print(ftbl)"
   ]
  },
  {
   "cell_type": "code",
   "execution_count": 22,
   "metadata": {},
   "outputs": [
    {
     "data": {
      "text/plain": [
       "941"
      ]
     },
     "execution_count": 22,
     "metadata": {},
     "output_type": "execute_result"
    }
   ],
   "source": [
    "def remove_substring(cid, substrings_to_remove=[\"PostEra-\", \"GoStar-\", \"other-\"]):\n",
    "    for substring in substrings_to_remove:\n",
    "        cid = cid.replace(substring, \"\")\n",
    "    return cid\n",
    "\n",
    "compound_ids_from_info = set([remove_substring(cid) for cid in compound_info.compound_id])\n",
    "intersection_info = compound_ids.intersection(compound_ids_from_info)\n",
    "len(intersection_info)"
   ]
  },
  {
   "cell_type": "code",
   "execution_count": 23,
   "metadata": {},
   "outputs": [],
   "source": [
    "# compound_ids_from_info = set(compound_info.compound_id)\n",
    "# intersection_info = compound_ids.intersection(compound_ids_from_info)\n",
    "# len(intersection_info)"
   ]
  },
  {
   "cell_type": "code",
   "execution_count": 24,
   "metadata": {},
   "outputs": [
    {
     "data": {
      "text/html": [
       "<div>\n",
       "<style scoped>\n",
       "    .dataframe tbody tr th:only-of-type {\n",
       "        vertical-align: middle;\n",
       "    }\n",
       "\n",
       "    .dataframe tbody tr th {\n",
       "        vertical-align: top;\n",
       "    }\n",
       "\n",
       "    .dataframe thead th {\n",
       "        text-align: right;\n",
       "    }\n",
       "</style>\n",
       "<table border=\"1\" class=\"dataframe\">\n",
       "  <thead>\n",
       "    <tr style=\"text-align: right;\">\n",
       "      <th></th>\n",
       "      <th>Unnamed: 0</th>\n",
       "      <th>compound_id</th>\n",
       "      <th>rdkit_smiles</th>\n",
       "      <th>active</th>\n",
       "      <th>cluster</th>\n",
       "    </tr>\n",
       "  </thead>\n",
       "  <tbody>\n",
       "    <tr>\n",
       "      <th>0</th>\n",
       "      <td>0</td>\n",
       "      <td>CHEMBL478284</td>\n",
       "      <td>CN(C)C(=O)C(=O)c1cn(C)c2cc(Cl)c(C(=O)N3CCC(Cc4...</td>\n",
       "      <td>0</td>\n",
       "      <td>1982</td>\n",
       "    </tr>\n",
       "    <tr>\n",
       "      <th>1</th>\n",
       "      <td>1</td>\n",
       "      <td>ZINC142824</td>\n",
       "      <td>CC(=O)Nc1ccccc1</td>\n",
       "      <td>0</td>\n",
       "      <td>1966</td>\n",
       "    </tr>\n",
       "    <tr>\n",
       "      <th>2</th>\n",
       "      <td>2</td>\n",
       "      <td>CHEMBL269644</td>\n",
       "      <td>CC(=O)Nc1ccccc1</td>\n",
       "      <td>0</td>\n",
       "      <td>1990</td>\n",
       "    </tr>\n",
       "    <tr>\n",
       "      <th>3</th>\n",
       "      <td>3</td>\n",
       "      <td>CHEMBL379761</td>\n",
       "      <td>CC(C)c1c(NC(=O)Nc2ccc(Cl)cc2)c(=O)n(-c2ccccc2)n1C</td>\n",
       "      <td>0</td>\n",
       "      <td>1924</td>\n",
       "    </tr>\n",
       "    <tr>\n",
       "      <th>4</th>\n",
       "      <td>4</td>\n",
       "      <td>ZINC14976923</td>\n",
       "      <td>CC(C)c1c(NC(=O)Nc2ccc(Cl)cc2)c(=O)n(-c2ccccc2)n1C</td>\n",
       "      <td>0</td>\n",
       "      <td>1989</td>\n",
       "    </tr>\n",
       "    <tr>\n",
       "      <th>...</th>\n",
       "      <td>...</td>\n",
       "      <td>...</td>\n",
       "      <td>...</td>\n",
       "      <td>...</td>\n",
       "      <td>...</td>\n",
       "    </tr>\n",
       "    <tr>\n",
       "      <th>2848</th>\n",
       "      <td>35</td>\n",
       "      <td>LON-WEI-b2874fec-26</td>\n",
       "      <td>CNCC1CCCN(C(=O)[C@@H](c2ccccc2)N2Cc3ccccc3C2=O)C1</td>\n",
       "      <td>1</td>\n",
       "      <td>1992</td>\n",
       "    </tr>\n",
       "    <tr>\n",
       "      <th>2849</th>\n",
       "      <td>36</td>\n",
       "      <td>LON-WEI-b2874fec-27</td>\n",
       "      <td>CN(C)C(=O)C(CNC(=O)[C@@H](c1ccccc1)N1Cc2ccccc2...</td>\n",
       "      <td>1</td>\n",
       "      <td>1968</td>\n",
       "    </tr>\n",
       "    <tr>\n",
       "      <th>2850</th>\n",
       "      <td>37</td>\n",
       "      <td>JOH-UNI-61f30276-2</td>\n",
       "      <td>O=c1[nH]c(Cc2cccc(C(F)(F)F)c2)nc2cnccc12</td>\n",
       "      <td>1</td>\n",
       "      <td>1900</td>\n",
       "    </tr>\n",
       "    <tr>\n",
       "      <th>2851</th>\n",
       "      <td>38</td>\n",
       "      <td>JOH-UNI-61f30276-3</td>\n",
       "      <td>O=c1[nH]c(Cc2cccc(S(F)(F)(F)(F)F)c2)nc2cnccc12</td>\n",
       "      <td>1</td>\n",
       "      <td>1943</td>\n",
       "    </tr>\n",
       "    <tr>\n",
       "      <th>2852</th>\n",
       "      <td>39</td>\n",
       "      <td>MAT-POS-281d2ee9-1</td>\n",
       "      <td>CC(C(N)=O)c1cc(Cl)cc(CC(=O)Nc2cncc3ccccc23)c1</td>\n",
       "      <td>1</td>\n",
       "      <td>1991</td>\n",
       "    </tr>\n",
       "  </tbody>\n",
       "</table>\n",
       "<p>2853 rows × 5 columns</p>\n",
       "</div>"
      ],
      "text/plain": [
       "      Unnamed: 0          compound_id  \\\n",
       "0              0         CHEMBL478284   \n",
       "1              1           ZINC142824   \n",
       "2              2         CHEMBL269644   \n",
       "3              3         CHEMBL379761   \n",
       "4              4         ZINC14976923   \n",
       "...          ...                  ...   \n",
       "2848          35  LON-WEI-b2874fec-26   \n",
       "2849          36  LON-WEI-b2874fec-27   \n",
       "2850          37   JOH-UNI-61f30276-2   \n",
       "2851          38   JOH-UNI-61f30276-3   \n",
       "2852          39   MAT-POS-281d2ee9-1   \n",
       "\n",
       "                                           rdkit_smiles  active  cluster  \n",
       "0     CN(C)C(=O)C(=O)c1cn(C)c2cc(Cl)c(C(=O)N3CCC(Cc4...       0     1982  \n",
       "1                                       CC(=O)Nc1ccccc1       0     1966  \n",
       "2                                       CC(=O)Nc1ccccc1       0     1990  \n",
       "3     CC(C)c1c(NC(=O)Nc2ccc(Cl)cc2)c(=O)n(-c2ccccc2)n1C       0     1924  \n",
       "4     CC(C)c1c(NC(=O)Nc2ccc(Cl)cc2)c(=O)n(-c2ccccc2)n1C       0     1989  \n",
       "...                                                 ...     ...      ...  \n",
       "2848  CNCC1CCCN(C(=O)[C@@H](c2ccccc2)N2Cc3ccccc3C2=O)C1       1     1992  \n",
       "2849  CN(C)C(=O)C(CNC(=O)[C@@H](c1ccccc1)N1Cc2ccccc2...       1     1968  \n",
       "2850           O=c1[nH]c(Cc2cccc(C(F)(F)F)c2)nc2cnccc12       1     1900  \n",
       "2851     O=c1[nH]c(Cc2cccc(S(F)(F)(F)(F)F)c2)nc2cnccc12       1     1943  \n",
       "2852      CC(C(N)=O)c1cc(Cl)cc(CC(=O)Nc2cncc3ccccc23)c1       1     1991  \n",
       "\n",
       "[2853 rows x 5 columns]"
      ]
     },
     "execution_count": 24,
     "metadata": {},
     "output_type": "execute_result"
    }
   ],
   "source": [
    "compound_info_2 = pd.read_csv(os.path.join(data_dir, \"eval\", \"mpro_exp_data2.csv\"))\n",
    "compound_info_2"
   ]
  },
  {
   "cell_type": "code",
   "execution_count": 25,
   "metadata": {},
   "outputs": [
    {
     "data": {
      "text/plain": [
       "1497"
      ]
     },
     "execution_count": 25,
     "metadata": {},
     "output_type": "execute_result"
    }
   ],
   "source": [
    "compound_ids_from_info_2 = set(compound_info_2.compound_id)\n",
    "intersection_info_2 = compound_ids.intersection(compound_ids_from_info_2)\n",
    "len(intersection_info_2)"
   ]
  },
  {
   "cell_type": "code",
   "execution_count": 26,
   "metadata": {},
   "outputs": [
    {
     "data": {
      "text/html": [
       "<div>\n",
       "<style scoped>\n",
       "    .dataframe tbody tr th:only-of-type {\n",
       "        vertical-align: middle;\n",
       "    }\n",
       "\n",
       "    .dataframe tbody tr th {\n",
       "        vertical-align: top;\n",
       "    }\n",
       "\n",
       "    .dataframe thead th {\n",
       "        text-align: right;\n",
       "    }\n",
       "</style>\n",
       "<table border=\"1\" class=\"dataframe\">\n",
       "  <thead>\n",
       "    <tr style=\"text-align: right;\">\n",
       "      <th></th>\n",
       "      <th>SMILES</th>\n",
       "      <th>CID</th>\n",
       "      <th>canonical_CID</th>\n",
       "      <th>r_inhibition_at_20_uM</th>\n",
       "      <th>r_inhibition_at_50_uM</th>\n",
       "      <th>r_avg_IC50</th>\n",
       "      <th>f_inhibition_at_20_uM</th>\n",
       "      <th>f_inhibition_at_50_uM</th>\n",
       "      <th>f_avg_IC50</th>\n",
       "      <th>f_avg_pIC50</th>\n",
       "      <th>relative_solubility_at_20_uM</th>\n",
       "      <th>relative_solubility_at_100_uM</th>\n",
       "      <th>trypsin_IC50</th>\n",
       "      <th>NMR_std_ratio</th>\n",
       "      <th>acrylamide</th>\n",
       "      <th>chloroacetamide</th>\n",
       "      <th>series</th>\n",
       "      <th>frag_id</th>\n",
       "    </tr>\n",
       "  </thead>\n",
       "  <tbody>\n",
       "    <tr>\n",
       "      <th>0</th>\n",
       "      <td>COC(=O)CN(C)S(=O)(=O)N1Cc2ccc(Cl)cc2C(C(=O)Nc2...</td>\n",
       "      <td>MAT-POS-af1eef35-2</td>\n",
       "      <td>MAT-POS-af1eef35-2</td>\n",
       "      <td>NaN</td>\n",
       "      <td>NaN</td>\n",
       "      <td>NaN</td>\n",
       "      <td>NaN</td>\n",
       "      <td>NaN</td>\n",
       "      <td>0.064774</td>\n",
       "      <td>NaN</td>\n",
       "      <td>NaN</td>\n",
       "      <td>NaN</td>\n",
       "      <td>NaN</td>\n",
       "      <td>NaN</td>\n",
       "      <td>False</td>\n",
       "      <td>False</td>\n",
       "      <td>3-aminopyridine-like</td>\n",
       "      <td>NaN</td>\n",
       "    </tr>\n",
       "    <tr>\n",
       "      <th>1</th>\n",
       "      <td>N#CC1(CS(=O)(=O)N2Cc3ccc(Cl)cc3[C@H](C(=O)Nc3c...</td>\n",
       "      <td>MAT-POS-e194df51-1</td>\n",
       "      <td>MAT-POS-e194df51-1</td>\n",
       "      <td>NaN</td>\n",
       "      <td>NaN</td>\n",
       "      <td>NaN</td>\n",
       "      <td>NaN</td>\n",
       "      <td>NaN</td>\n",
       "      <td>0.036834</td>\n",
       "      <td>NaN</td>\n",
       "      <td>NaN</td>\n",
       "      <td>NaN</td>\n",
       "      <td>NaN</td>\n",
       "      <td>NaN</td>\n",
       "      <td>False</td>\n",
       "      <td>False</td>\n",
       "      <td>3-aminopyridine-like</td>\n",
       "      <td>NaN</td>\n",
       "    </tr>\n",
       "    <tr>\n",
       "      <th>2</th>\n",
       "      <td>N#CC1(CS(=O)(=O)N2Cc3ccc(Cl)cc3[C@@H](C(=O)Nc3...</td>\n",
       "      <td>MAT-POS-e194df51-2</td>\n",
       "      <td>MAT-POS-e194df51-2</td>\n",
       "      <td>NaN</td>\n",
       "      <td>NaN</td>\n",
       "      <td>NaN</td>\n",
       "      <td>NaN</td>\n",
       "      <td>NaN</td>\n",
       "      <td>4.112868</td>\n",
       "      <td>NaN</td>\n",
       "      <td>NaN</td>\n",
       "      <td>NaN</td>\n",
       "      <td>NaN</td>\n",
       "      <td>NaN</td>\n",
       "      <td>False</td>\n",
       "      <td>False</td>\n",
       "      <td>3-aminopyridine-like</td>\n",
       "      <td>NaN</td>\n",
       "    </tr>\n",
       "    <tr>\n",
       "      <th>3</th>\n",
       "      <td>O=C(Nc1cncc2cc(F)ccc12)[C@H]1CCS(=O)(=O)c2ccc(...</td>\n",
       "      <td>MAT-POS-86c60949-1</td>\n",
       "      <td>MAT-POS-86c60949-1</td>\n",
       "      <td>NaN</td>\n",
       "      <td>NaN</td>\n",
       "      <td>NaN</td>\n",
       "      <td>NaN</td>\n",
       "      <td>NaN</td>\n",
       "      <td>24.543083</td>\n",
       "      <td>NaN</td>\n",
       "      <td>NaN</td>\n",
       "      <td>NaN</td>\n",
       "      <td>NaN</td>\n",
       "      <td>NaN</td>\n",
       "      <td>False</td>\n",
       "      <td>False</td>\n",
       "      <td>3-aminopyridine-like</td>\n",
       "      <td>NaN</td>\n",
       "    </tr>\n",
       "    <tr>\n",
       "      <th>4</th>\n",
       "      <td>CC(C)(O)c1ccc2cncc(NC(=O)C3CCNc4ccc(Cl)cc43)c2c1</td>\n",
       "      <td>MAT-POS-86c60949-2</td>\n",
       "      <td>MAT-POS-86c60949-2</td>\n",
       "      <td>NaN</td>\n",
       "      <td>NaN</td>\n",
       "      <td>NaN</td>\n",
       "      <td>NaN</td>\n",
       "      <td>NaN</td>\n",
       "      <td>0.353118</td>\n",
       "      <td>NaN</td>\n",
       "      <td>NaN</td>\n",
       "      <td>NaN</td>\n",
       "      <td>NaN</td>\n",
       "      <td>NaN</td>\n",
       "      <td>False</td>\n",
       "      <td>False</td>\n",
       "      <td>3-aminopyridine-like</td>\n",
       "      <td>NaN</td>\n",
       "    </tr>\n",
       "    <tr>\n",
       "      <th>...</th>\n",
       "      <td>...</td>\n",
       "      <td>...</td>\n",
       "      <td>...</td>\n",
       "      <td>...</td>\n",
       "      <td>...</td>\n",
       "      <td>...</td>\n",
       "      <td>...</td>\n",
       "      <td>...</td>\n",
       "      <td>...</td>\n",
       "      <td>...</td>\n",
       "      <td>...</td>\n",
       "      <td>...</td>\n",
       "      <td>...</td>\n",
       "      <td>...</td>\n",
       "      <td>...</td>\n",
       "      <td>...</td>\n",
       "      <td>...</td>\n",
       "      <td>...</td>\n",
       "    </tr>\n",
       "    <tr>\n",
       "      <th>1496</th>\n",
       "      <td>N#Cc1cc(Cl)cc(NC(=O)Nc2cccnc2)c1</td>\n",
       "      <td>WAR-XCH-eb7b662f-2</td>\n",
       "      <td>WAR-XCH-eb7b662f-2</td>\n",
       "      <td>NaN</td>\n",
       "      <td>NaN</td>\n",
       "      <td>NaN</td>\n",
       "      <td>NaN</td>\n",
       "      <td>NaN</td>\n",
       "      <td>99.010000</td>\n",
       "      <td>NaN</td>\n",
       "      <td>NaN</td>\n",
       "      <td>NaN</td>\n",
       "      <td>99.0</td>\n",
       "      <td>NaN</td>\n",
       "      <td>False</td>\n",
       "      <td>False</td>\n",
       "      <td>3-aminopyridine-like</td>\n",
       "      <td>NaN</td>\n",
       "    </tr>\n",
       "    <tr>\n",
       "      <th>1497</th>\n",
       "      <td>N#Cc1cccc(NC(=O)Nc2cncc(N)c2)c1</td>\n",
       "      <td>DAR-DIA-23aa0b97-8</td>\n",
       "      <td>DAR-DIA-23aa0b97-8</td>\n",
       "      <td>NaN</td>\n",
       "      <td>NaN</td>\n",
       "      <td>NaN</td>\n",
       "      <td>NaN</td>\n",
       "      <td>NaN</td>\n",
       "      <td>54.272964</td>\n",
       "      <td>NaN</td>\n",
       "      <td>NaN</td>\n",
       "      <td>NaN</td>\n",
       "      <td>99.0</td>\n",
       "      <td>NaN</td>\n",
       "      <td>False</td>\n",
       "      <td>False</td>\n",
       "      <td>3-aminopyridine-like</td>\n",
       "      <td>NaN</td>\n",
       "    </tr>\n",
       "    <tr>\n",
       "      <th>1498</th>\n",
       "      <td>N#Cc1cccc(NC(=O)Nc2c[nH]c3ncccc23)c1</td>\n",
       "      <td>DAR-DIA-23aa0b97-11</td>\n",
       "      <td>DAR-DIA-23aa0b97-11</td>\n",
       "      <td>NaN</td>\n",
       "      <td>NaN</td>\n",
       "      <td>NaN</td>\n",
       "      <td>NaN</td>\n",
       "      <td>NaN</td>\n",
       "      <td>63.554925</td>\n",
       "      <td>NaN</td>\n",
       "      <td>NaN</td>\n",
       "      <td>NaN</td>\n",
       "      <td>99.0</td>\n",
       "      <td>NaN</td>\n",
       "      <td>False</td>\n",
       "      <td>False</td>\n",
       "      <td>3-aminopyridine-like</td>\n",
       "      <td>NaN</td>\n",
       "    </tr>\n",
       "    <tr>\n",
       "      <th>1499</th>\n",
       "      <td>N#Cc1cccc(NC(=O)Cc2cncc3ccccc23)c1</td>\n",
       "      <td>DAR-DIA-23aa0b97-19</td>\n",
       "      <td>DAR-DIA-23aa0b97-19</td>\n",
       "      <td>NaN</td>\n",
       "      <td>NaN</td>\n",
       "      <td>14.641091</td>\n",
       "      <td>NaN</td>\n",
       "      <td>NaN</td>\n",
       "      <td>26.680129</td>\n",
       "      <td>NaN</td>\n",
       "      <td>NaN</td>\n",
       "      <td>NaN</td>\n",
       "      <td>NaN</td>\n",
       "      <td>NaN</td>\n",
       "      <td>False</td>\n",
       "      <td>False</td>\n",
       "      <td>3-aminopyridine-like</td>\n",
       "      <td>NaN</td>\n",
       "    </tr>\n",
       "    <tr>\n",
       "      <th>1500</th>\n",
       "      <td>O=C(Cc1cncc2ccccc12)Nc1ccccc1</td>\n",
       "      <td>DAR-DIA-23aa0b97-20</td>\n",
       "      <td>DAR-DIA-23aa0b97-20</td>\n",
       "      <td>NaN</td>\n",
       "      <td>NaN</td>\n",
       "      <td>45.077469</td>\n",
       "      <td>NaN</td>\n",
       "      <td>NaN</td>\n",
       "      <td>57.469670</td>\n",
       "      <td>NaN</td>\n",
       "      <td>NaN</td>\n",
       "      <td>NaN</td>\n",
       "      <td>99.0</td>\n",
       "      <td>NaN</td>\n",
       "      <td>False</td>\n",
       "      <td>False</td>\n",
       "      <td>3-aminopyridine-like</td>\n",
       "      <td>x2563</td>\n",
       "    </tr>\n",
       "  </tbody>\n",
       "</table>\n",
       "<p>1501 rows × 18 columns</p>\n",
       "</div>"
      ],
      "text/plain": [
       "                                                 SMILES                  CID  \\\n",
       "0     COC(=O)CN(C)S(=O)(=O)N1Cc2ccc(Cl)cc2C(C(=O)Nc2...   MAT-POS-af1eef35-2   \n",
       "1     N#CC1(CS(=O)(=O)N2Cc3ccc(Cl)cc3[C@H](C(=O)Nc3c...   MAT-POS-e194df51-1   \n",
       "2     N#CC1(CS(=O)(=O)N2Cc3ccc(Cl)cc3[C@@H](C(=O)Nc3...   MAT-POS-e194df51-2   \n",
       "3     O=C(Nc1cncc2cc(F)ccc12)[C@H]1CCS(=O)(=O)c2ccc(...   MAT-POS-86c60949-1   \n",
       "4      CC(C)(O)c1ccc2cncc(NC(=O)C3CCNc4ccc(Cl)cc43)c2c1   MAT-POS-86c60949-2   \n",
       "...                                                 ...                  ...   \n",
       "1496                   N#Cc1cc(Cl)cc(NC(=O)Nc2cccnc2)c1   WAR-XCH-eb7b662f-2   \n",
       "1497                    N#Cc1cccc(NC(=O)Nc2cncc(N)c2)c1   DAR-DIA-23aa0b97-8   \n",
       "1498               N#Cc1cccc(NC(=O)Nc2c[nH]c3ncccc23)c1  DAR-DIA-23aa0b97-11   \n",
       "1499                 N#Cc1cccc(NC(=O)Cc2cncc3ccccc23)c1  DAR-DIA-23aa0b97-19   \n",
       "1500                      O=C(Cc1cncc2ccccc12)Nc1ccccc1  DAR-DIA-23aa0b97-20   \n",
       "\n",
       "            canonical_CID  r_inhibition_at_20_uM  r_inhibition_at_50_uM  \\\n",
       "0      MAT-POS-af1eef35-2                    NaN                    NaN   \n",
       "1      MAT-POS-e194df51-1                    NaN                    NaN   \n",
       "2      MAT-POS-e194df51-2                    NaN                    NaN   \n",
       "3      MAT-POS-86c60949-1                    NaN                    NaN   \n",
       "4      MAT-POS-86c60949-2                    NaN                    NaN   \n",
       "...                   ...                    ...                    ...   \n",
       "1496   WAR-XCH-eb7b662f-2                    NaN                    NaN   \n",
       "1497   DAR-DIA-23aa0b97-8                    NaN                    NaN   \n",
       "1498  DAR-DIA-23aa0b97-11                    NaN                    NaN   \n",
       "1499  DAR-DIA-23aa0b97-19                    NaN                    NaN   \n",
       "1500  DAR-DIA-23aa0b97-20                    NaN                    NaN   \n",
       "\n",
       "      r_avg_IC50  f_inhibition_at_20_uM  f_inhibition_at_50_uM  f_avg_IC50  \\\n",
       "0            NaN                    NaN                    NaN    0.064774   \n",
       "1            NaN                    NaN                    NaN    0.036834   \n",
       "2            NaN                    NaN                    NaN    4.112868   \n",
       "3            NaN                    NaN                    NaN   24.543083   \n",
       "4            NaN                    NaN                    NaN    0.353118   \n",
       "...          ...                    ...                    ...         ...   \n",
       "1496         NaN                    NaN                    NaN   99.010000   \n",
       "1497         NaN                    NaN                    NaN   54.272964   \n",
       "1498         NaN                    NaN                    NaN   63.554925   \n",
       "1499   14.641091                    NaN                    NaN   26.680129   \n",
       "1500   45.077469                    NaN                    NaN   57.469670   \n",
       "\n",
       "      f_avg_pIC50  relative_solubility_at_20_uM  \\\n",
       "0             NaN                           NaN   \n",
       "1             NaN                           NaN   \n",
       "2             NaN                           NaN   \n",
       "3             NaN                           NaN   \n",
       "4             NaN                           NaN   \n",
       "...           ...                           ...   \n",
       "1496          NaN                           NaN   \n",
       "1497          NaN                           NaN   \n",
       "1498          NaN                           NaN   \n",
       "1499          NaN                           NaN   \n",
       "1500          NaN                           NaN   \n",
       "\n",
       "      relative_solubility_at_100_uM  trypsin_IC50  NMR_std_ratio acrylamide  \\\n",
       "0                               NaN           NaN            NaN      False   \n",
       "1                               NaN           NaN            NaN      False   \n",
       "2                               NaN           NaN            NaN      False   \n",
       "3                               NaN           NaN            NaN      False   \n",
       "4                               NaN           NaN            NaN      False   \n",
       "...                             ...           ...            ...        ...   \n",
       "1496                            NaN          99.0            NaN      False   \n",
       "1497                            NaN          99.0            NaN      False   \n",
       "1498                            NaN          99.0            NaN      False   \n",
       "1499                            NaN           NaN            NaN      False   \n",
       "1500                            NaN          99.0            NaN      False   \n",
       "\n",
       "     chloroacetamide                series frag_id  \n",
       "0              False  3-aminopyridine-like     NaN  \n",
       "1              False  3-aminopyridine-like     NaN  \n",
       "2              False  3-aminopyridine-like     NaN  \n",
       "3              False  3-aminopyridine-like     NaN  \n",
       "4              False  3-aminopyridine-like     NaN  \n",
       "...              ...                   ...     ...  \n",
       "1496           False  3-aminopyridine-like     NaN  \n",
       "1497           False  3-aminopyridine-like     NaN  \n",
       "1498           False  3-aminopyridine-like     NaN  \n",
       "1499           False  3-aminopyridine-like     NaN  \n",
       "1500           False  3-aminopyridine-like   x2563  \n",
       "\n",
       "[1501 rows x 18 columns]"
      ]
     },
     "execution_count": 26,
     "metadata": {},
     "output_type": "execute_result"
    }
   ],
   "source": [
    "compound_info_3 = pd.read_csv(os.path.join(data_dir, \"postera_activity_data_10132021.csv\"))\n",
    "compound_info_3"
   ]
  },
  {
   "cell_type": "code",
   "execution_count": 27,
   "metadata": {},
   "outputs": [
    {
     "data": {
      "text/plain": [
       "1501"
      ]
     },
     "execution_count": 27,
     "metadata": {},
     "output_type": "execute_result"
    }
   ],
   "source": [
    "compound_ids_from_info_3 = set(compound_info_3.CID)\n",
    "intersection_info_3 = compound_ids.intersection(compound_ids_from_info_3)\n",
    "len(intersection_info_3)"
   ]
  },
  {
   "cell_type": "code",
   "execution_count": 28,
   "metadata": {},
   "outputs": [
    {
     "data": {
      "text/html": [
       "<div>\n",
       "<style scoped>\n",
       "    .dataframe tbody tr th:only-of-type {\n",
       "        vertical-align: middle;\n",
       "    }\n",
       "\n",
       "    .dataframe tbody tr th {\n",
       "        vertical-align: top;\n",
       "    }\n",
       "\n",
       "    .dataframe thead th {\n",
       "        text-align: right;\n",
       "    }\n",
       "</style>\n",
       "<table border=\"1\" class=\"dataframe\">\n",
       "  <thead>\n",
       "    <tr style=\"text-align: right;\">\n",
       "      <th></th>\n",
       "      <th>SMILES</th>\n",
       "      <th>CID</th>\n",
       "      <th>canonical_CID</th>\n",
       "      <th>r_inhibition_at_20_uM</th>\n",
       "      <th>r_inhibition_at_50_uM</th>\n",
       "      <th>r_avg_IC50</th>\n",
       "      <th>f_inhibition_at_20_uM</th>\n",
       "      <th>f_inhibition_at_50_uM</th>\n",
       "      <th>f_avg_IC50</th>\n",
       "      <th>f_avg_pIC50</th>\n",
       "      <th>relative_solubility_at_20_uM</th>\n",
       "      <th>relative_solubility_at_100_uM</th>\n",
       "      <th>trypsin_IC50</th>\n",
       "      <th>NMR_std_ratio</th>\n",
       "      <th>acrylamide</th>\n",
       "      <th>chloroacetamide</th>\n",
       "      <th>series</th>\n",
       "      <th>frag_id</th>\n",
       "    </tr>\n",
       "  </thead>\n",
       "  <tbody>\n",
       "    <tr>\n",
       "      <th>432</th>\n",
       "      <td>O=C(C[C@@]1(C(=O)Nc2cncc3ccccc23)CCOc2ccc(Cl)c...</td>\n",
       "      <td>ALP-UNI-3496895b-8</td>\n",
       "      <td>ALP-UNI-3496895b-8</td>\n",
       "      <td>NaN</td>\n",
       "      <td>NaN</td>\n",
       "      <td>19.362400</td>\n",
       "      <td>NaN</td>\n",
       "      <td>NaN</td>\n",
       "      <td>NaN</td>\n",
       "      <td>NaN</td>\n",
       "      <td>NaN</td>\n",
       "      <td>NaN</td>\n",
       "      <td>NaN</td>\n",
       "      <td>NaN</td>\n",
       "      <td>False</td>\n",
       "      <td>False</td>\n",
       "      <td>3-aminopyridine-like</td>\n",
       "      <td>NaN</td>\n",
       "    </tr>\n",
       "    <tr>\n",
       "      <th>554</th>\n",
       "      <td>O=C(C[C@@]1(C(=O)Nc2cncc3ccccc23)CCOc2ccc(Cl)c...</td>\n",
       "      <td>KAD-UNI-8a629cb0-21</td>\n",
       "      <td>KAD-UNI-8a629cb0-21</td>\n",
       "      <td>NaN</td>\n",
       "      <td>NaN</td>\n",
       "      <td>9.257844</td>\n",
       "      <td>NaN</td>\n",
       "      <td>NaN</td>\n",
       "      <td>NaN</td>\n",
       "      <td>NaN</td>\n",
       "      <td>NaN</td>\n",
       "      <td>NaN</td>\n",
       "      <td>NaN</td>\n",
       "      <td>NaN</td>\n",
       "      <td>False</td>\n",
       "      <td>False</td>\n",
       "      <td>NaN</td>\n",
       "      <td>NaN</td>\n",
       "    </tr>\n",
       "    <tr>\n",
       "      <th>702</th>\n",
       "      <td>O=C(Nc1cncc2cnccc12)[C@H]1CCOc2ccc(Cl)cc21</td>\n",
       "      <td>ALP-POS-ce760d3f-2</td>\n",
       "      <td>ALP-POS-ce760d3f-2</td>\n",
       "      <td>NaN</td>\n",
       "      <td>NaN</td>\n",
       "      <td>1.291063</td>\n",
       "      <td>NaN</td>\n",
       "      <td>NaN</td>\n",
       "      <td>NaN</td>\n",
       "      <td>NaN</td>\n",
       "      <td>NaN</td>\n",
       "      <td>NaN</td>\n",
       "      <td>NaN</td>\n",
       "      <td>NaN</td>\n",
       "      <td>False</td>\n",
       "      <td>False</td>\n",
       "      <td>3-aminopyridine-like</td>\n",
       "      <td>NaN</td>\n",
       "    </tr>\n",
       "    <tr>\n",
       "      <th>771</th>\n",
       "      <td>COc1cc(Cl)cc2c1OCC[C@@H]2C(=O)Nc1cncc2ccccc12</td>\n",
       "      <td>MAT-POS-43fe65f4-1</td>\n",
       "      <td>MAT-POS-43fe65f4-1</td>\n",
       "      <td>NaN</td>\n",
       "      <td>NaN</td>\n",
       "      <td>10.203822</td>\n",
       "      <td>NaN</td>\n",
       "      <td>NaN</td>\n",
       "      <td>NaN</td>\n",
       "      <td>NaN</td>\n",
       "      <td>NaN</td>\n",
       "      <td>NaN</td>\n",
       "      <td>NaN</td>\n",
       "      <td>NaN</td>\n",
       "      <td>False</td>\n",
       "      <td>False</td>\n",
       "      <td>3-aminopyridine-like</td>\n",
       "      <td>NaN</td>\n",
       "    </tr>\n",
       "    <tr>\n",
       "      <th>789</th>\n",
       "      <td>COc1ccc2c(N)nn(C(=O)C3CCOc4ccc(Cl)cc43)c2c1</td>\n",
       "      <td>ALP-POS-79636100-2</td>\n",
       "      <td>ALP-POS-79636100-2</td>\n",
       "      <td>NaN</td>\n",
       "      <td>NaN</td>\n",
       "      <td>62.090051</td>\n",
       "      <td>NaN</td>\n",
       "      <td>NaN</td>\n",
       "      <td>NaN</td>\n",
       "      <td>NaN</td>\n",
       "      <td>NaN</td>\n",
       "      <td>NaN</td>\n",
       "      <td>NaN</td>\n",
       "      <td>NaN</td>\n",
       "      <td>False</td>\n",
       "      <td>False</td>\n",
       "      <td>NaN</td>\n",
       "      <td>NaN</td>\n",
       "    </tr>\n",
       "    <tr>\n",
       "      <th>...</th>\n",
       "      <td>...</td>\n",
       "      <td>...</td>\n",
       "      <td>...</td>\n",
       "      <td>...</td>\n",
       "      <td>...</td>\n",
       "      <td>...</td>\n",
       "      <td>...</td>\n",
       "      <td>...</td>\n",
       "      <td>...</td>\n",
       "      <td>...</td>\n",
       "      <td>...</td>\n",
       "      <td>...</td>\n",
       "      <td>...</td>\n",
       "      <td>...</td>\n",
       "      <td>...</td>\n",
       "      <td>...</td>\n",
       "      <td>...</td>\n",
       "      <td>...</td>\n",
       "    </tr>\n",
       "    <tr>\n",
       "      <th>1464</th>\n",
       "      <td>Cc1ccn2c(-c3ccc4[nH]ncc4c3)c(-c3ccc(F)cc3)nc2c1</td>\n",
       "      <td>ALV-UNI-7ff1a6f9-14</td>\n",
       "      <td>ALV-UNI-7ff1a6f9-14</td>\n",
       "      <td>NaN</td>\n",
       "      <td>NaN</td>\n",
       "      <td>99.000000</td>\n",
       "      <td>NaN</td>\n",
       "      <td>NaN</td>\n",
       "      <td>NaN</td>\n",
       "      <td>NaN</td>\n",
       "      <td>NaN</td>\n",
       "      <td>NaN</td>\n",
       "      <td>NaN</td>\n",
       "      <td>NaN</td>\n",
       "      <td>False</td>\n",
       "      <td>False</td>\n",
       "      <td>NaN</td>\n",
       "      <td>NaN</td>\n",
       "    </tr>\n",
       "    <tr>\n",
       "      <th>1468</th>\n",
       "      <td>CC1C(O)CCCN1Cc1ccccc1</td>\n",
       "      <td>MAK-UNK-6435e6c2-9</td>\n",
       "      <td>MAK-UNK-6435e6c2-9</td>\n",
       "      <td>NaN</td>\n",
       "      <td>NaN</td>\n",
       "      <td>99.000000</td>\n",
       "      <td>NaN</td>\n",
       "      <td>NaN</td>\n",
       "      <td>NaN</td>\n",
       "      <td>NaN</td>\n",
       "      <td>NaN</td>\n",
       "      <td>NaN</td>\n",
       "      <td>NaN</td>\n",
       "      <td>NaN</td>\n",
       "      <td>False</td>\n",
       "      <td>False</td>\n",
       "      <td>NaN</td>\n",
       "      <td>x0464</td>\n",
       "    </tr>\n",
       "    <tr>\n",
       "      <th>1477</th>\n",
       "      <td>O=C(CCl)N1CCN(Cc2cccc(Cl)c2)C[C@@H]1Cc1ccccc1</td>\n",
       "      <td>DAN-LON-a5fc619e-10</td>\n",
       "      <td>DAN-LON-a5fc619e-10</td>\n",
       "      <td>NaN</td>\n",
       "      <td>NaN</td>\n",
       "      <td>18.850715</td>\n",
       "      <td>NaN</td>\n",
       "      <td>NaN</td>\n",
       "      <td>NaN</td>\n",
       "      <td>NaN</td>\n",
       "      <td>NaN</td>\n",
       "      <td>NaN</td>\n",
       "      <td>NaN</td>\n",
       "      <td>NaN</td>\n",
       "      <td>False</td>\n",
       "      <td>True</td>\n",
       "      <td>piperazine-chloroacetamide</td>\n",
       "      <td>NaN</td>\n",
       "    </tr>\n",
       "    <tr>\n",
       "      <th>1484</th>\n",
       "      <td>CS(=O)(=O)N(CCc1ccccc1)CC1CCN(C(=O)CCl)CC1</td>\n",
       "      <td>DUN-NEW-f8ce3686-25</td>\n",
       "      <td>DUN-NEW-f8ce3686-25</td>\n",
       "      <td>NaN</td>\n",
       "      <td>NaN</td>\n",
       "      <td>99.000000</td>\n",
       "      <td>NaN</td>\n",
       "      <td>NaN</td>\n",
       "      <td>NaN</td>\n",
       "      <td>NaN</td>\n",
       "      <td>NaN</td>\n",
       "      <td>NaN</td>\n",
       "      <td>NaN</td>\n",
       "      <td>NaN</td>\n",
       "      <td>False</td>\n",
       "      <td>True</td>\n",
       "      <td>NaN</td>\n",
       "      <td>NaN</td>\n",
       "    </tr>\n",
       "    <tr>\n",
       "      <th>1486</th>\n",
       "      <td>O=C(Nc1cccnc1)N(CCN1CCOCC1)c1cccc(Cl)c1</td>\n",
       "      <td>JOR-UNI-2fc98d0b-6</td>\n",
       "      <td>JOR-UNI-2fc98d0b-6</td>\n",
       "      <td>NaN</td>\n",
       "      <td>NaN</td>\n",
       "      <td>99.000000</td>\n",
       "      <td>NaN</td>\n",
       "      <td>NaN</td>\n",
       "      <td>NaN</td>\n",
       "      <td>NaN</td>\n",
       "      <td>NaN</td>\n",
       "      <td>NaN</td>\n",
       "      <td>NaN</td>\n",
       "      <td>NaN</td>\n",
       "      <td>False</td>\n",
       "      <td>False</td>\n",
       "      <td>3-aminopyridine-like</td>\n",
       "      <td>x10237</td>\n",
       "    </tr>\n",
       "  </tbody>\n",
       "</table>\n",
       "<p>136 rows × 18 columns</p>\n",
       "</div>"
      ],
      "text/plain": [
       "                                                 SMILES                  CID  \\\n",
       "432   O=C(C[C@@]1(C(=O)Nc2cncc3ccccc23)CCOc2ccc(Cl)c...   ALP-UNI-3496895b-8   \n",
       "554   O=C(C[C@@]1(C(=O)Nc2cncc3ccccc23)CCOc2ccc(Cl)c...  KAD-UNI-8a629cb0-21   \n",
       "702          O=C(Nc1cncc2cnccc12)[C@H]1CCOc2ccc(Cl)cc21   ALP-POS-ce760d3f-2   \n",
       "771       COc1cc(Cl)cc2c1OCC[C@@H]2C(=O)Nc1cncc2ccccc12   MAT-POS-43fe65f4-1   \n",
       "789         COc1ccc2c(N)nn(C(=O)C3CCOc4ccc(Cl)cc43)c2c1   ALP-POS-79636100-2   \n",
       "...                                                 ...                  ...   \n",
       "1464    Cc1ccn2c(-c3ccc4[nH]ncc4c3)c(-c3ccc(F)cc3)nc2c1  ALV-UNI-7ff1a6f9-14   \n",
       "1468                              CC1C(O)CCCN1Cc1ccccc1   MAK-UNK-6435e6c2-9   \n",
       "1477      O=C(CCl)N1CCN(Cc2cccc(Cl)c2)C[C@@H]1Cc1ccccc1  DAN-LON-a5fc619e-10   \n",
       "1484         CS(=O)(=O)N(CCc1ccccc1)CC1CCN(C(=O)CCl)CC1  DUN-NEW-f8ce3686-25   \n",
       "1486            O=C(Nc1cccnc1)N(CCN1CCOCC1)c1cccc(Cl)c1   JOR-UNI-2fc98d0b-6   \n",
       "\n",
       "            canonical_CID  r_inhibition_at_20_uM  r_inhibition_at_50_uM  \\\n",
       "432    ALP-UNI-3496895b-8                    NaN                    NaN   \n",
       "554   KAD-UNI-8a629cb0-21                    NaN                    NaN   \n",
       "702    ALP-POS-ce760d3f-2                    NaN                    NaN   \n",
       "771    MAT-POS-43fe65f4-1                    NaN                    NaN   \n",
       "789    ALP-POS-79636100-2                    NaN                    NaN   \n",
       "...                   ...                    ...                    ...   \n",
       "1464  ALV-UNI-7ff1a6f9-14                    NaN                    NaN   \n",
       "1468   MAK-UNK-6435e6c2-9                    NaN                    NaN   \n",
       "1477  DAN-LON-a5fc619e-10                    NaN                    NaN   \n",
       "1484  DUN-NEW-f8ce3686-25                    NaN                    NaN   \n",
       "1486   JOR-UNI-2fc98d0b-6                    NaN                    NaN   \n",
       "\n",
       "      r_avg_IC50  f_inhibition_at_20_uM  f_inhibition_at_50_uM  f_avg_IC50  \\\n",
       "432    19.362400                    NaN                    NaN         NaN   \n",
       "554     9.257844                    NaN                    NaN         NaN   \n",
       "702     1.291063                    NaN                    NaN         NaN   \n",
       "771    10.203822                    NaN                    NaN         NaN   \n",
       "789    62.090051                    NaN                    NaN         NaN   \n",
       "...          ...                    ...                    ...         ...   \n",
       "1464   99.000000                    NaN                    NaN         NaN   \n",
       "1468   99.000000                    NaN                    NaN         NaN   \n",
       "1477   18.850715                    NaN                    NaN         NaN   \n",
       "1484   99.000000                    NaN                    NaN         NaN   \n",
       "1486   99.000000                    NaN                    NaN         NaN   \n",
       "\n",
       "      f_avg_pIC50  relative_solubility_at_20_uM  \\\n",
       "432           NaN                           NaN   \n",
       "554           NaN                           NaN   \n",
       "702           NaN                           NaN   \n",
       "771           NaN                           NaN   \n",
       "789           NaN                           NaN   \n",
       "...           ...                           ...   \n",
       "1464          NaN                           NaN   \n",
       "1468          NaN                           NaN   \n",
       "1477          NaN                           NaN   \n",
       "1484          NaN                           NaN   \n",
       "1486          NaN                           NaN   \n",
       "\n",
       "      relative_solubility_at_100_uM  trypsin_IC50  NMR_std_ratio acrylamide  \\\n",
       "432                             NaN           NaN            NaN      False   \n",
       "554                             NaN           NaN            NaN      False   \n",
       "702                             NaN           NaN            NaN      False   \n",
       "771                             NaN           NaN            NaN      False   \n",
       "789                             NaN           NaN            NaN      False   \n",
       "...                             ...           ...            ...        ...   \n",
       "1464                            NaN           NaN            NaN      False   \n",
       "1468                            NaN           NaN            NaN      False   \n",
       "1477                            NaN           NaN            NaN      False   \n",
       "1484                            NaN           NaN            NaN      False   \n",
       "1486                            NaN           NaN            NaN      False   \n",
       "\n",
       "     chloroacetamide                      series frag_id  \n",
       "432            False        3-aminopyridine-like     NaN  \n",
       "554            False                         NaN     NaN  \n",
       "702            False        3-aminopyridine-like     NaN  \n",
       "771            False        3-aminopyridine-like     NaN  \n",
       "789            False                         NaN     NaN  \n",
       "...              ...                         ...     ...  \n",
       "1464           False                         NaN     NaN  \n",
       "1468           False                         NaN   x0464  \n",
       "1477            True  piperazine-chloroacetamide     NaN  \n",
       "1484            True                         NaN     NaN  \n",
       "1486           False        3-aminopyridine-like  x10237  \n",
       "\n",
       "[136 rows x 18 columns]"
      ]
     },
     "execution_count": 28,
     "metadata": {},
     "output_type": "execute_result"
    }
   ],
   "source": [
    "na_list = compound_info_3.f_avg_IC50.isna()\n",
    "na_list\n",
    "#  = split_info[split_info.cmpd_id.isin(compound_ids)]\n",
    "compound_info_3[na_list]"
   ]
  },
  {
   "cell_type": "code",
   "execution_count": 29,
   "metadata": {},
   "outputs": [
    {
     "data": {
      "text/plain": [
       "True    1501\n",
       "Name: f_avg_pIC50, dtype: int64"
      ]
     },
     "execution_count": 29,
     "metadata": {},
     "output_type": "execute_result"
    }
   ],
   "source": [
    "compound_info_3.f_avg_pIC50.isna().value_counts()\n",
    "# compound_info_3[na_list].r_avg_IC50.isna().value_counts()"
   ]
  },
  {
   "cell_type": "code",
   "execution_count": 30,
   "metadata": {},
   "outputs": [
    {
     "data": {
      "image/png": "[encoded data removed]",
      "text/plain": [
       "<Figure size 640x480 with 1 Axes>"
      ]
     },
     "metadata": {},
     "output_type": "display_data"
    }
   ],
   "source": [
    "compound_info_3.f_avg_IC50.hist()\n",
    "plt.show()"
   ]
  },
  {
   "cell_type": "code",
   "execution_count": 31,
   "metadata": {},
   "outputs": [
    {
     "data": {
      "text/html": [
       "<div>\n",
       "<style scoped>\n",
       "    .dataframe tbody tr th:only-of-type {\n",
       "        vertical-align: middle;\n",
       "    }\n",
       "\n",
       "    .dataframe tbody tr th {\n",
       "        vertical-align: top;\n",
       "    }\n",
       "\n",
       "    .dataframe thead th {\n",
       "        text-align: right;\n",
       "    }\n",
       "</style>\n",
       "<table border=\"1\" class=\"dataframe\">\n",
       "  <thead>\n",
       "    <tr style=\"text-align: right;\">\n",
       "      <th></th>\n",
       "      <th>cmpd_id</th>\n",
       "      <th>subset</th>\n",
       "      <th>fold</th>\n",
       "    </tr>\n",
       "  </thead>\n",
       "  <tbody>\n",
       "    <tr>\n",
       "      <th>0</th>\n",
       "      <td>104679481</td>\n",
       "      <td>train</td>\n",
       "      <td>0</td>\n",
       "    </tr>\n",
       "    <tr>\n",
       "      <th>1</th>\n",
       "      <td>104680060</td>\n",
       "      <td>train</td>\n",
       "      <td>0</td>\n",
       "    </tr>\n",
       "    <tr>\n",
       "      <th>2</th>\n",
       "      <td>1161709</td>\n",
       "      <td>train</td>\n",
       "      <td>0</td>\n",
       "    </tr>\n",
       "    <tr>\n",
       "      <th>3</th>\n",
       "      <td>11748279</td>\n",
       "      <td>train</td>\n",
       "      <td>0</td>\n",
       "    </tr>\n",
       "    <tr>\n",
       "      <th>4</th>\n",
       "      <td>11798390</td>\n",
       "      <td>train</td>\n",
       "      <td>0</td>\n",
       "    </tr>\n",
       "    <tr>\n",
       "      <th>...</th>\n",
       "      <td>...</td>\n",
       "      <td>...</td>\n",
       "      <td>...</td>\n",
       "    </tr>\n",
       "    <tr>\n",
       "      <th>2191</th>\n",
       "      <td>ZINC591392</td>\n",
       "      <td>test</td>\n",
       "      <td>0</td>\n",
       "    </tr>\n",
       "    <tr>\n",
       "      <th>2192</th>\n",
       "      <td>ZINC68197423</td>\n",
       "      <td>test</td>\n",
       "      <td>0</td>\n",
       "    </tr>\n",
       "    <tr>\n",
       "      <th>2193</th>\n",
       "      <td>ZINC68267183</td>\n",
       "      <td>test</td>\n",
       "      <td>0</td>\n",
       "    </tr>\n",
       "    <tr>\n",
       "      <th>2194</th>\n",
       "      <td>ZINC72317473</td>\n",
       "      <td>test</td>\n",
       "      <td>0</td>\n",
       "    </tr>\n",
       "    <tr>\n",
       "      <th>2195</th>\n",
       "      <td>ZINC9293</td>\n",
       "      <td>test</td>\n",
       "      <td>0</td>\n",
       "    </tr>\n",
       "  </tbody>\n",
       "</table>\n",
       "<p>2196 rows × 3 columns</p>\n",
       "</div>"
      ],
      "text/plain": [
       "           cmpd_id subset  fold\n",
       "0        104679481  train     0\n",
       "1        104680060  train     0\n",
       "2          1161709  train     0\n",
       "3         11748279  train     0\n",
       "4         11798390  train     0\n",
       "...            ...    ...   ...\n",
       "2191    ZINC591392   test     0\n",
       "2192  ZINC68197423   test     0\n",
       "2193  ZINC68267183   test     0\n",
       "2194  ZINC72317473   test     0\n",
       "2195      ZINC9293   test     0\n",
       "\n",
       "[2196 rows x 3 columns]"
      ]
     },
     "execution_count": 31,
     "metadata": {},
     "output_type": "execute_result"
    }
   ],
   "source": [
    "split_info = pd.read_csv(os.path.join(data_dir, \"mpro_exp_data2_train_valid_test_ave_min_8aa6f8e2-4acc-461e-b8aa-9917eac1a337.csv\"))\n",
    "split_info"
   ]
  },
  {
   "cell_type": "code",
   "execution_count": 32,
   "metadata": {},
   "outputs": [
    {
     "data": {
      "text/plain": [
       "train    1955\n",
       "test      128\n",
       "valid     113\n",
       "Name: subset, dtype: int64"
      ]
     },
     "execution_count": 32,
     "metadata": {},
     "output_type": "execute_result"
    }
   ],
   "source": [
    "split_info.subset.value_counts()"
   ]
  },
  {
   "cell_type": "code",
   "execution_count": 33,
   "metadata": {},
   "outputs": [
    {
     "data": {
      "text/plain": [
       "1177"
      ]
     },
     "execution_count": 33,
     "metadata": {},
     "output_type": "execute_result"
    }
   ],
   "source": [
    "compound_ids_from_split = set(split_info.cmpd_id)\n",
    "intersection_split = compound_ids.intersection(compound_ids_from_split)\n",
    "len(intersection_split)"
   ]
  },
  {
   "cell_type": "code",
   "execution_count": 34,
   "metadata": {},
   "outputs": [
    {
     "data": {
      "text/plain": [
       "train    1047\n",
       "test       68\n",
       "valid      62\n",
       "Name: subset, dtype: int64"
      ]
     },
     "execution_count": 34,
     "metadata": {},
     "output_type": "execute_result"
    }
   ],
   "source": [
    "filtered_split_info = split_info[split_info.cmpd_id.isin(compound_ids)]\n",
    "filtered_split_info.subset.value_counts()"
   ]
  },
  {
   "cell_type": "code",
   "execution_count": 35,
   "metadata": {},
   "outputs": [
    {
     "data": {
      "text/plain": [
       "737"
      ]
     },
     "execution_count": 35,
     "metadata": {},
     "output_type": "execute_result"
    }
   ],
   "source": [
    "intersection_split_info = compound_ids_from_split.intersection(compound_ids_from_info)\n",
    "len(intersection_split_info)"
   ]
  },
  {
   "cell_type": "code",
   "execution_count": 36,
   "metadata": {},
   "outputs": [
    {
     "data": {
      "text/plain": [
       "train    679\n",
       "test      33\n",
       "valid     25\n",
       "Name: subset, dtype: int64"
      ]
     },
     "execution_count": 36,
     "metadata": {},
     "output_type": "execute_result"
    }
   ],
   "source": [
    "filtered_split_info_compound = split_info[split_info.cmpd_id.isin(compound_ids_from_info)]\n",
    "filtered_split_info_compound.subset.value_counts()"
   ]
  },
  {
   "cell_type": "code",
   "execution_count": null,
   "metadata": {},
   "outputs": [],
   "source": []
  }
 ],
 "metadata": {
  "kernelspec": {
   "display_name": "fast",
   "language": "python",
   "name": "fast"
  },
  "language_info": {
   "codemirror_mode": {
    "name": "ipython",
    "version": 3
   },
   "file_extension": ".py",
   "mimetype": "text/x-python",
   "name": "python",
   "nbconvert_exporter": "python",
   "pygments_lexer": "ipython3",
   "version": "3.8.13"
  }
 },
 "nbformat": 4,
 "nbformat_minor": 4
}
