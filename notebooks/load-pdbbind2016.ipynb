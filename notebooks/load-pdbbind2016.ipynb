{
 "cells": [
  {
   "cell_type": "code",
   "execution_count": 1,
   "metadata": {},
   "outputs": [
    {
     "name": "stderr",
     "output_type": "stream",
     "text": [
      "/g/g92/noh1/.local/lib/python3.8/site-packages/tqdm/auto.py:22: TqdmWarning: IProgress not found. Please update jupyter and ipywidgets. See https://ipywidgets.readthedocs.io/en/stable/user_install.html\n",
      "  from .autonotebook import tqdm as notebook_tqdm\n"
     ]
    }
   ],
   "source": [
    "import h5py\n",
    "import numpy as np\n",
    "import torch\n",
    "\n",
    "from torch.utils.data import ConcatDataset, DataLoader\n",
    "from torch_geometric.data import DataListLoader"
   ]
  },
  {
   "cell_type": "code",
   "execution_count": 2,
   "metadata": {},
   "outputs": [
    {
     "data": {
      "text/html": [
       "<style>.container { width:98% !important; }</style>"
      ],
      "text/plain": [
       "<IPython.core.display.HTML object>"
      ]
     },
     "execution_count": 2,
     "metadata": {},
     "output_type": "execute_result"
    }
   ],
   "source": [
    "from IPython.display import clear_output\n",
    "from IPython.core.display import HTML\n",
    "HTML(\"<style>.container { width:98% !important; }</style>\")"
   ]
  },
  {
   "cell_type": "code",
   "execution_count": 3,
   "metadata": {},
   "outputs": [
    {
     "name": "stdout",
     "output_type": "stream",
     "text": [
      "Current working directory: /g/g92/noh1/FASTv2\n"
     ]
    }
   ],
   "source": [
    "os.chdir(\"..\")\n",
    "print(\"Current working directory:\", os.getcwd())"
   ]
  },
  {
   "cell_type": "code",
   "execution_count": 5,
   "metadata": {},
   "outputs": [],
   "source": [
    "data_dir = \"./data/pdbbind2016\"\n",
    "file_name = \"refined.hdf\""
   ]
  },
  {
   "cell_type": "code",
   "execution_count": 6,
   "metadata": {},
   "outputs": [],
   "source": [
    "file_path = os.path.join(data_dir, file_name)\n",
    "f = h5py.File(file_path, 'r')"
   ]
  },
  {
   "cell_type": "code",
   "execution_count": 7,
   "metadata": {},
   "outputs": [],
   "source": [
    "data_names = name = list(f)"
   ]
  },
  {
   "cell_type": "code",
   "execution_count": 8,
   "metadata": {},
   "outputs": [
    {
     "name": "stdout",
     "output_type": "stream",
     "text": [
      "6.4\n"
     ]
    },
    {
     "data": {
      "text/plain": [
       "<KeysViewHDF5 ['pybel']>"
      ]
     },
     "execution_count": 8,
     "metadata": {},
     "output_type": "execute_result"
    }
   ],
   "source": [
    "idx = 0\n",
    "name = data_names[idx]\n",
    "print(f[name].attrs[\"affinity\"])\n",
    "f[name].keys()"
   ]
  },
  {
   "cell_type": "code",
   "execution_count": 9,
   "metadata": {},
   "outputs": [
    {
     "name": "stdout",
     "output_type": "stream",
     "text": [
      "pybel\n",
      "<HDF5 group \"/10gs/pybel/processed\" (1 members)>\n"
     ]
    }
   ],
   "source": [
    "for k in f[name].keys():\n",
    "    print(k)\n",
    "    for info in f[name][k]:\n",
    "        print(f[name][k][info])"
   ]
  },
  {
   "cell_type": "code",
   "execution_count": 18,
   "metadata": {},
   "outputs": [
    {
     "data": {
      "text/plain": [
       "<HDF5 dataset \"data\": shape (440, 22), type \"<f4\">"
      ]
     },
     "execution_count": 18,
     "metadata": {},
     "output_type": "execute_result"
    }
   ],
   "source": [
    "f[name][\"pybel\"][\"processed\"][\"pdbbind\"][\"data\"]"
   ]
  },
  {
   "cell_type": "code",
   "execution_count": 23,
   "metadata": {},
   "outputs": [
    {
     "data": {
      "text/plain": [
       "(440,)"
      ]
     },
     "execution_count": 23,
     "metadata": {},
     "output_type": "execute_result"
    }
   ],
   "source": [
    "f[name][\"pybel\"][\"processed\"][\"pdbbind\"].attrs[\"van_der_waals\"].shape"
   ]
  },
  {
   "cell_type": "code",
   "execution_count": 19,
   "metadata": {},
   "outputs": [
    {
     "data": {
      "text/plain": [
       "array([[ 5.261486 ,  4.0609403, -4.5755405, ...,  0.       ,  1.       ,\n",
       "         0.       ],\n",
       "       [ 5.183486 ,  3.2499404, -3.3305416, ...,  0.       ,  0.       ,\n",
       "         0.       ],\n",
       "       [ 6.2884855,  2.1869397, -3.2925415, ...,  0.       ,  0.       ,\n",
       "         0.       ],\n",
       "       ...,\n",
       "       [ 3.6274862, 11.01894  , -3.5255413, ...,  1.       ,  1.       ,\n",
       "         0.       ],\n",
       "       [ 3.6814861,  8.42094  , -2.5995407, ...,  1.       ,  1.       ,\n",
       "         0.       ],\n",
       "       [ 7.5784864,  5.92794  , -7.7265415, ...,  1.       ,  1.       ,\n",
       "         0.       ]], dtype=float32)"
      ]
     },
     "execution_count": 19,
     "metadata": {},
     "output_type": "execute_result"
    }
   ],
   "source": [
    "f[name][\"pybel\"][\"processed\"][\"pdbbind\"][\"data\"][:]"
   ]
  },
  {
   "cell_type": "code",
   "execution_count": 9,
   "metadata": {},
   "outputs": [
    {
     "data": {
      "text/plain": [
       "array([[-1.6278286, -0.3490429,  2.8687363],\n",
       "       [-1.5928288, -0.8380432,  4.3387375],\n",
       "       [-0.833828 , -2.1590433,  4.4177322],\n",
       "       ...,\n",
       "       [ 7.3611717,  8.054957 , -1.6722641],\n",
       "       [ 8.4101715,  7.103957 , -1.1192665],\n",
       "       [ 6.345173 ,  7.237956 , -2.490265 ]], dtype=float32)"
      ]
     },
     "execution_count": 9,
     "metadata": {},
     "output_type": "execute_result"
    }
   ],
   "source": [
    "f[name][\"spatial\"][\"coords\"][:]"
   ]
  },
  {
   "cell_type": "code",
   "execution_count": 10,
   "metadata": {},
   "outputs": [
    {
     "data": {
      "text/plain": [
       "array([[1.7, 0. , 1. , ..., 0. , 0. , 1. ],\n",
       "       [1.7, 0. , 1. , ..., 0. , 0. , 1. ],\n",
       "       [1.7, 0. , 1. , ..., 0. , 0. , 1. ],\n",
       "       ...,\n",
       "       [1.7, 0. , 1. , ..., 0. , 0. , 0. ],\n",
       "       [1.7, 0. , 1. , ..., 0. , 0. , 0. ],\n",
       "       [1.7, 0. , 1. , ..., 0. , 0. , 0. ]], dtype=float32)"
      ]
     },
     "execution_count": 10,
     "metadata": {},
     "output_type": "execute_result"
    }
   ],
   "source": [
    "f[name][\"spatial\"][\"node_feats\"][:]"
   ]
  },
  {
   "cell_type": "code",
   "execution_count": 11,
   "metadata": {},
   "outputs": [
    {
     "data": {
      "text/plain": [
       "array([[ 0.       ,  1.5495967,  2.5111606, ..., 13.116784 , 13.122989 ,\n",
       "        12.241332 ],\n",
       "       [ 1.5495967,  0.       ,  1.5255699, ..., 13.978259 , 13.889751 ,\n",
       "        13.223801 ],\n",
       "       [ 2.5111606,  1.5255699,  0.       , ..., 14.4420185, 14.209612 ,\n",
       "        13.695331 ],\n",
       "       ...,\n",
       "       [13.116784 , 13.978259 , 14.4420185, ...,  0.       ,  1.5200685,\n",
       "         1.5391134],\n",
       "       [13.122989 , 13.889751 , 14.209612 , ...,  1.5200685,  0.       ,\n",
       "         2.4822996],\n",
       "       [12.241332 , 13.223801 , 13.695331 , ...,  1.5391134,  2.4822996,\n",
       "         0.       ]], dtype=float32)"
      ]
     },
     "execution_count": 11,
     "metadata": {},
     "output_type": "execute_result"
    }
   ],
   "source": [
    "f[name][\"spatial\"][\"dists\"][:]"
   ]
  },
  {
   "cell_type": "code",
   "execution_count": 12,
   "metadata": {},
   "outputs": [],
   "source": [
    "# f.close()"
   ]
  },
  {
   "cell_type": "code",
   "execution_count": 16,
   "metadata": {},
   "outputs": [
    {
     "data": {
      "text/plain": [
       "(513, 23)"
      ]
     },
     "execution_count": 16,
     "metadata": {},
     "output_type": "execute_result"
    }
   ],
   "source": [
    "x = np.concatenate((f[name][\"spatial\"][\"coords\"][:], f[name][\"spatial\"][\"node_feats\"][:]), axis=-1)\n",
    "x.shape"
   ]
  },
  {
   "cell_type": "code",
   "execution_count": 17,
   "metadata": {},
   "outputs": [
    {
     "data": {
      "text/plain": [
       "array([[-1.6278286, -0.3490429,  2.8687363, ...,  0.       ,  0.       ,\n",
       "         1.       ],\n",
       "       [-1.5928288, -0.8380432,  4.3387375, ...,  0.       ,  0.       ,\n",
       "         1.       ],\n",
       "       [-0.833828 , -2.1590433,  4.4177322, ...,  0.       ,  0.       ,\n",
       "         1.       ],\n",
       "       ...,\n",
       "       [ 7.3611717,  8.054957 , -1.6722641, ...,  0.       ,  0.       ,\n",
       "         0.       ],\n",
       "       [ 8.4101715,  7.103957 , -1.1192665, ...,  0.       ,  0.       ,\n",
       "         0.       ],\n",
       "       [ 6.345173 ,  7.237956 , -2.490265 , ...,  0.       ,  0.       ,\n",
       "         0.       ]], dtype=float32)"
      ]
     },
     "execution_count": 17,
     "metadata": {},
     "output_type": "execute_result"
    }
   ],
   "source": [
    "x"
   ]
  },
  {
   "cell_type": "code",
   "execution_count": 18,
   "metadata": {},
   "outputs": [],
   "source": [
    "f.close()"
   ]
  },
  {
   "cell_type": "code",
   "execution_count": null,
   "metadata": {},
   "outputs": [],
   "source": []
  }
 ],
 "metadata": {
  "kernelspec": {
   "display_name": "fast",
   "language": "python",
   "name": "fast"
  },
  "language_info": {
   "codemirror_mode": {
    "name": "ipython",
    "version": 3
   },
   "file_extension": ".py",
   "mimetype": "text/x-python",
   "name": "python",
   "nbconvert_exporter": "python",
   "pygments_lexer": "ipython3",
   "version": "3.8.13"
  }
 },
 "nbformat": 4,
 "nbformat_minor": 4
}
