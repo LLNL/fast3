{
 "cells": [
  {
   "cell_type": "code",
   "execution_count": 1,
   "id": "de5887b6",
   "metadata": {},
   "outputs": [],
   "source": [
    "import numpy as np\n",
    "import os"
   ]
  },
  {
   "cell_type": "code",
   "execution_count": 2,
   "id": "fb84d221",
   "metadata": {},
   "outputs": [],
   "source": [
    "from IPython.display import clear_output\n",
    "from IPython.core.display import HTML\n",
    "HTML(\"<style>.container { width:98% !important; }</style>\")\n",
    "os.chdir('../')"
   ]
  },
  {
   "cell_type": "code",
   "execution_count": 3,
   "id": "43386fea",
   "metadata": {},
   "outputs": [],
   "source": [
    "from datasets.pdbbind import PDBBind2020"
   ]
  },
  {
   "cell_type": "code",
   "execution_count": 4,
   "id": "407b6931",
   "metadata": {},
   "outputs": [],
   "source": [
    "subsets = [\"train\", \"test\", \"val\"]\n",
    "input_type = \"graph\"\n",
    "\n",
    "configs = {\n",
    "    \"input_type\": input_type,\n",
    "    \"max_atoms\": 2000,\n",
    "}"
   ]
  },
  {
   "cell_type": "code",
   "execution_count": 5,
   "id": "10922bd1",
   "metadata": {},
   "outputs": [],
   "source": [
    "pdbbind_datas = {subset: PDBBind2020(subset=subset, configs=configs, mode=subset) for subset in subsets}"
   ]
  },
  {
   "cell_type": "code",
   "execution_count": 6,
   "id": "32c6ec94",
   "metadata": {},
   "outputs": [
    {
     "name": "stdout",
     "output_type": "stream",
     "text": [
      "train 16876\n",
      "test 259\n",
      "val 2275\n",
      "all 19410\n"
     ]
    }
   ],
   "source": [
    "total = 0\n",
    "for subset in pdbbind_datas:\n",
    "    n = len(pdbbind_datas[subset])\n",
    "    print(subset, n)\n",
    "    total += n\n",
    "print(\"all\", total)"
   ]
  },
  {
   "cell_type": "code",
   "execution_count": 7,
   "id": "5499d6a2",
   "metadata": {},
   "outputs": [],
   "source": [
    "test_labels = [data['data'].y for data in pdbbind_datas['train']]"
   ]
  },
  {
   "cell_type": "code",
   "execution_count": 9,
   "id": "f981cece",
   "metadata": {},
   "outputs": [
    {
     "data": {
      "image/png": "[encoded data removed]",
      "text/plain": [
       "<Figure size 640x480 with 1 Axes>"
      ]
     },
     "metadata": {},
     "output_type": "display_data"
    }
   ],
   "source": [
    "import matplotlib.pyplot as plt\n",
    "test_labels = np.stack(test_labels)\n",
    "hist= plt.hist(test_labels.reshape(-1), bins=20, edgecolor='black', linewidth=0.8)\n",
    "plt.show()"
   ]
  },
  {
   "cell_type": "code",
   "execution_count": null,
   "id": "f0d58273",
   "metadata": {},
   "outputs": [],
   "source": []
  }
 ],
 "metadata": {
  "kernelspec": {
   "display_name": "PredBio",
   "language": "python",
   "name": "python3"
  },
  "language_info": {
   "codemirror_mode": {
    "name": "ipython",
    "version": 3
   },
   "file_extension": ".py",
   "mimetype": "text/x-python",
   "name": "python",
   "nbconvert_exporter": "python",
   "pygments_lexer": "ipython3",
   "version": "3.10.16"
  }
 },
 "nbformat": 4,
 "nbformat_minor": 5
}
