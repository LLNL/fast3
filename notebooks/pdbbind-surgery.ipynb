{
 "cells": [
  {
   "cell_type": "code",
   "execution_count": 14,
   "id": "de5887b6",
   "metadata": {},
   "outputs": [],
   "source": [
    "import matplotlib.pyplot as plt\n",
    "\n",
    "import h5py\n",
    "import numpy as np"
   ]
  },
  {
   "cell_type": "code",
   "execution_count": 2,
   "id": "fb84d221",
   "metadata": {},
   "outputs": [
    {
     "data": {
      "text/html": [
       "<style>.container { width:98% !important; }</style>"
      ],
      "text/plain": [
       "<IPython.core.display.HTML object>"
      ]
     },
     "execution_count": 2,
     "metadata": {},
     "output_type": "execute_result"
    }
   ],
   "source": [
    "from IPython.display import clear_output\n",
    "from IPython.core.display import HTML\n",
    "HTML(\"<style>.container { width:98% !important; }</style>\")"
   ]
  },
  {
   "cell_type": "code",
   "execution_count": 3,
   "id": "b6cc3a8f",
   "metadata": {},
   "outputs": [
    {
     "name": "stdout",
     "output_type": "stream",
     "text": [
      "Current working directory: /g/g92/noh1/fast2\n"
     ]
    }
   ],
   "source": [
    "os.chdir(\"..\")\n",
    "print(\"Current working directory:\", os.getcwd())"
   ]
  },
  {
   "cell_type": "code",
   "execution_count": 4,
   "id": "43386fea",
   "metadata": {},
   "outputs": [
    {
     "name": "stderr",
     "output_type": "stream",
     "text": [
      "/g/g92/noh1/.local/lib/python3.8/site-packages/tqdm/auto.py:22: TqdmWarning: IProgress not found. Please update jupyter and ipywidgets. See https://ipywidgets.readthedocs.io/en/stable/user_install.html\n",
      "  from .autonotebook import tqdm as notebook_tqdm\n"
     ]
    }
   ],
   "source": [
    "from datasets.pdbbind import PDBBind2016, PDBBind2020"
   ]
  },
  {
   "cell_type": "code",
   "execution_count": 16,
   "id": "1d67f51c",
   "metadata": {},
   "outputs": [],
   "source": [
    "subsets_2020 = [\"train\", \"val\", \"test\"]\n",
    "input_type = \"graph\"\n",
    "\n",
    "configs_2020 = {\n",
    "    \"input_type\": input_type,\n",
    "    \"max_atoms\": 2000,\n",
    "}"
   ]
  },
  {
   "cell_type": "code",
   "execution_count": 8,
   "id": "b69c0dbf",
   "metadata": {},
   "outputs": [],
   "source": [
    "pdbbind_2020 = {subset: PDBBind2020(mode=subset, subset=subset, configs=configs_2020) for subset in subsets_2020}"
   ]
  },
  {
   "cell_type": "code",
   "execution_count": 19,
   "id": "bd97eb7d",
   "metadata": {},
   "outputs": [],
   "source": [
    "affinity_scores = {}\n",
    "\n",
    "for subset in subsets_2020:\n",
    "    affinity_scores[subset] = [float(_affinity) for _id, _pose, _affinity in pdbbind_2020[subset].data_list]"
   ]
  },
  {
   "cell_type": "code",
   "execution_count": 25,
   "id": "5499d6a2",
   "metadata": {},
   "outputs": [
    {
     "data": {
      "image/png": "[encoded data removed]",
      "text/plain": [
       "<Figure size 640x480 with 1 Axes>"
      ]
     },
     "metadata": {},
     "output_type": "display_data"
    }
   ],
   "source": [
    "tag = \"\"\n",
    "bins = 50\n",
    "alpha = 0.2\n",
    "density = True\n",
    "\n",
    "for subset in subsets_2020:\n",
    "    plt.hist(affinity_scores[subset], bins=bins, alpha=alpha, density=density, label=subset)\n",
    "plt.legend(loc='upper right')\n",
    "plt.show()"
   ]
  },
  {
   "cell_type": "code",
   "execution_count": 26,
   "id": "1de048fe",
   "metadata": {},
   "outputs": [
    {
     "data": {
      "text/plain": [
       "(0.4, 15.22)"
      ]
     },
     "execution_count": 26,
     "metadata": {},
     "output_type": "execute_result"
    }
   ],
   "source": [
    "all_affinities = affinity_scores[\"train\"] + affinity_scores[\"val\"] + affinity_scores[\"test\"]\n",
    "min(all_affinities), max(all_affinities)"
   ]
  },
  {
   "cell_type": "code",
   "execution_count": null,
   "id": "74045e66",
   "metadata": {},
   "outputs": [],
   "source": []
  }
 ],
 "metadata": {
  "kernelspec": {
   "display_name": "fast",
   "language": "python",
   "name": "fast"
  },
  "language_info": {
   "codemirror_mode": {
    "name": "ipython",
    "version": 3
   },
   "file_extension": ".py",
   "mimetype": "text/x-python",
   "name": "python",
   "nbconvert_exporter": "python",
   "pygments_lexer": "ipython3",
   "version": "3.8.13"
  }
 },
 "nbformat": 4,
 "nbformat_minor": 5
}
