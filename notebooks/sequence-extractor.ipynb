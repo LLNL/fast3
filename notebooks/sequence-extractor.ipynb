{
 "cells": [
  {
   "cell_type": "code",
   "execution_count": 1,
   "metadata": {},
   "outputs": [],
   "source": [
    "from Bio import SeqIO\n",
    "from esm.models.esm3 import ESM3 # ESM3 (seq-seq BERD-based LLM)\n",
    "from esm.sdk.api import ESM3InferenceClient, ESMProtein, SamplingConfig\n",
    "import numpy as np\n",
    "\n",
    "PDB_file_path = '/p/vast1/bcwc/flavivirus/data/flavivirus_docking_results/dengue/denv2/4m9t/4m9t_moe_prep.pdb' \n",
    "\n",
    "seq = SeqIO.parse(PDB_file_path, 'pdb-seqres')"
   ]
  },
  {
   "cell_type": "code",
   "execution_count": 2,
   "metadata": {},
   "outputs": [],
   "source": [
    "data = [(record.seq) for record in seq]"
   ]
  },
  {
   "cell_type": "code",
   "execution_count": 3,
   "metadata": {},
   "outputs": [
    {
     "name": "stdout",
     "output_type": "stream",
     "text": [
      "[Seq('EADLELERAADVRWEEQAEISGSSPILSITISEDGSMSIKNEEEEQTLGELEDG...NTE')]\n"
     ]
    }
   ],
   "source": [
    "print(data)"
   ]
  },
  {
   "cell_type": "code",
   "execution_count": 3,
   "metadata": {},
   "outputs": [
    {
     "data": {
      "application/vnd.jupyter.widget-view+json": {
       "model_id": "69c20f3bd98540f19cd5a254e4cc045b",
       "version_major": 2,
       "version_minor": 0
      },
      "text/plain": [
       "Fetching 22 files:   0%|          | 0/22 [00:00<?, ?it/s]"
      ]
     },
     "metadata": {},
     "output_type": "display_data"
    },
    {
     "name": "stderr",
     "output_type": "stream",
     "text": [
      "/usr/workspace/ranganath2/miniconda_p/envs/BioML/lib/python3.10/site-packages/esm/pretrained.py:105: FutureWarning: You are using `torch.load` with `weights_only=False` (the current default value), which uses the default pickle module implicitly. It is possible to construct malicious pickle data which will execute arbitrary code during unpickling (See https://github.com/pytorch/pytorch/blob/main/SECURITY.md#untrusted-models for more details). In a future release, the default value for `weights_only` will be flipped to `True`. This limits the functions that could be executed during unpickling. Arbitrary objects will no longer be allowed to be loaded via this mode unless they are explicitly allowlisted by the user via `torch.serialization.add_safe_globals`. We recommend you start setting `weights_only=True` for any use case where you don't have full control of the loaded file. Please open an issue on GitHub for any issues related to this experimental feature.\n",
      "  state_dict = torch.load(\n"
     ]
    }
   ],
   "source": [
    "# Load ESM3 model\n",
    "model: ESM3InferenceClient = ESM3.from_pretrained(\"esm3-open\").to(\"cuda\")"
   ]
  },
  {
   "cell_type": "code",
   "execution_count": 4,
   "metadata": {},
   "outputs": [
    {
     "name": "stdout",
     "output_type": "stream",
     "text": [
      "EADLELERAADVRWEEQAEISGSSPILSITISEDGSMSIKNEEEEQTLGELEDGAYRIKQKGILGYSQIGAGVYKEGTFHTMWHVTRGAVLMHKGKRIEPSWADVKKDLISYGGGWKLEGEWKEGEEVQVLALEPGKNPRAVQTKPGLFKTNTGTIGCVSLDFSPGTSGSPIVDKKGKVVGLYGNGVVTRSGAYVSAIANTE\n",
      "(1536,)\n"
     ]
    }
   ],
   "source": [
    "# emb_list = []\n",
    "sequence = data[0]\n",
    "protein = ESMProtein(sequence=(str(sequence)))\n",
    "protein_tensor = model.encode(protein)\n",
    "protein_emb = model.forward_and_sample(protein_tensor, SamplingConfig(return_mean_embedding=True)).mean_embedding\n",
    "protein_emb_np = protein_emb.detach().cpu().numpy()\n",
    "print(sequence)\n",
    "print(protein_emb_np.shape)\n",
    "# emb_list.append(protein_emb_np/np.linalg.norm(protein_emb_np))"
   ]
  },
  {
   "cell_type": "code",
   "execution_count": 5,
   "metadata": {},
   "outputs": [],
   "source": [
    "norm_np = protein_emb_np/np.linalg.norm(protein_emb_np)"
   ]
  },
  {
   "cell_type": "code",
   "execution_count": 6,
   "metadata": {},
   "outputs": [],
   "source": [
    "out_fn = \"../denv2-4m9t.npy\"\n",
    "np.save(out_fn, norm_np)"
   ]
  }
 ],
 "metadata": {
  "kernelspec": {
   "display_name": "Python 3",
   "language": "python",
   "name": "python3"
  },
  "language_info": {
   "codemirror_mode": {
    "name": "ipython",
    "version": 3
   },
   "file_extension": ".py",
   "mimetype": "text/x-python",
   "name": "python",
   "nbconvert_exporter": "python",
   "pygments_lexer": "ipython3",
   "version": "3.10.16"
  }
 },
 "nbformat": 4,
 "nbformat_minor": 2
}
