{
 "cells": [
  {
   "cell_type": "code",
   "execution_count": null,
   "metadata": {},
   "outputs": [],
   "source": [
    "from atomsci.ddm.pipeline import chem_diversity as cd\n",
    "from atomsci.ddm.utils.struct_utils import base_smiles_from_smiles\n",
    "import pandas as pd"
   ]
  },
  {
   "cell_type": "code",
   "execution_count": null,
   "metadata": {},
   "outputs": [],
   "source": [
    "f='../data/pdbbind2020/pdbbind_v2020_metadata_all.csv'\n",
    "df=pd.read_csv(f)\n",
    "df=df.dropna(axis=0,subset=['smiles'])\n",
    "df2 = pd.read_csv('../data/pdbbind2020/pdbbind_v2020_metadata.csv')\n",
    "df = df[df['pdbid'].isin(df2['pdbid'].tolist())]\n"
   ]
  },
  {
   "cell_type": "code",
   "execution_count": null,
   "metadata": {},
   "outputs": [],
   "source": [
    "# print(df.index)\n",
    "# print(base_smiles_from_smiles(df[1].smiles))\n",
    "data_list = df2['pdbid'].tolist()\n",
    "\n",
    "# base_smiles_from_smiles(df[df['pdbid']==data_list[0]].smiles)\n",
    "print(df[df['pdbid']==data_list[0]].smiles.to_list()[0])"
   ]
  },
  {
   "cell_type": "code",
   "execution_count": null,
   "metadata": {},
   "outputs": [],
   "source": [
    "def apply_lambda(smiles):\n",
    "    if not smiles:\n",
    "        return 'NaN'\n",
    "    else:\n",
    "        smiles = smiles[0]\n",
    "    try:\n",
    "        return base_smiles_from_smiles(smiles)\n",
    "    except:\n",
    "        return 'NaN'\n",
    "\n",
    "df2['base_rdkit_smiles'] = df2.apply(lambda row: apply_lambda(df[df['pdbid']==row['pdbid']].smiles.to_list()) , axis=1)\n",
    "df2['affinity'] = df2.apply(lambda row: df[row['pdbid']])"
   ]
  },
  {
   "cell_type": "code",
   "execution_count": null,
   "metadata": {},
   "outputs": [],
   "source": [
    "df2.head()\n",
    "df2 = df2[df2['base_rdkit_smiles']!='NaN']\n",
    "# scol='base_rdkit_smiles'\n",
    "# df1=df.dropna(axis=0,subset=[scol])\n",
    "# smiles_lst1=df1[scol].tolist()\n",
    "# print(df1.shape,df.shape)\n",
    "# hst=cd.calc_dist_smiles('ECFP','tanimoto',smiles_lst1,None)"
   ]
  },
  {
   "cell_type": "code",
   "execution_count": null,
   "metadata": {},
   "outputs": [],
   "source": [
    "df2.head()"
   ]
  },
  {
   "cell_type": "code",
   "execution_count": null,
   "metadata": {},
   "outputs": [],
   "source": [
    "df2.to_csv('../data/pdbbind2020/pdbbind_v2020_converted.csv')"
   ]
  }
 ],
 "metadata": {
  "kernelspec": {
   "display_name": "BioML",
   "language": "python",
   "name": "python3"
  },
  "language_info": {
   "codemirror_mode": {
    "name": "ipython",
    "version": 3
   },
   "file_extension": ".py",
   "mimetype": "text/x-python",
   "name": "python",
   "nbconvert_exporter": "python",
   "pygments_lexer": "ipython3",
   "version": "3.10.16"
  }
 },
 "nbformat": 4,
 "nbformat_minor": 2
}
